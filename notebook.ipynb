{
 "cells": [
  {
   "cell_type": "markdown",
   "id": "760e39cb-7e68-40bc-9a80-5d24ae4729c6",
   "metadata": {
    "tags": []
   },
   "source": [
    "# Predicting customer satisfaction using Classification\n",
    "### Machine Learning Zoomcamp - Midterm Project\n",
    "Binary classification project for the Santander Customer Satisfaction competition hosted on Kaggle.  "
   ]
  },
  {
   "cell_type": "code",
   "execution_count": 2,
   "id": "4690ecf7-bc51-47b9-9d31-3e5fc9cc0287",
   "metadata": {
    "tags": []
   },
   "outputs": [],
   "source": [
    "# !pip install -U kaggle"
   ]
  },
  {
   "cell_type": "code",
   "execution_count": 3,
   "id": "15c904e0-c0c8-40f7-afc6-11dacf05fcbd",
   "metadata": {},
   "outputs": [],
   "source": [
    "import pandas as pd\n",
    "import numpy as np\n",
    "\n",
    "from sklearn.model_selection import train_test_split\n",
    "from sklearn.model_selection import KFold\n",
    "\n",
    "from sklearn.feature_extraction import DictVectorizer\n",
    "from sklearn.linear_model import LogisticRegression\n",
    "from sklearn.metrics import roc_auc_score\n",
    "\n",
    "import seaborn as sns\n",
    "from matplotlib import pyplot as plt\n",
    "%matplotlib inline"
   ]
  },
  {
   "cell_type": "markdown",
   "id": "87cb891e-a894-4901-becb-dfa735f196fe",
   "metadata": {},
   "source": [
    "## Exploratory Data Analysis (EDA)"
   ]
  },
  {
   "cell_type": "code",
   "execution_count": 4,
   "id": "ea1f9e73-fafd-4b05-b928-c9e17eedb798",
   "metadata": {
    "tags": []
   },
   "outputs": [],
   "source": [
    "# !kaggle competitions download -c santander-customer-satisfaction"
   ]
  },
  {
   "cell_type": "code",
   "execution_count": 5,
   "id": "ea4a29b7-29e7-474b-9351-26537a511220",
   "metadata": {
    "tags": []
   },
   "outputs": [],
   "source": [
    "# !unzip -o santander-customer-satisfaction.zip -d data"
   ]
  },
  {
   "cell_type": "code",
   "execution_count": 6,
   "id": "d5ea51a7-df43-420c-b5c2-b0bd26050690",
   "metadata": {},
   "outputs": [],
   "source": [
    "df = pd.read_csv('data/train.csv')"
   ]
  },
  {
   "cell_type": "code",
   "execution_count": 7,
   "id": "0b36317c-f4e4-43d7-bfc0-26ad8a429a04",
   "metadata": {
    "tags": []
   },
   "outputs": [],
   "source": [
    "# df_train.info(verbose=True, show_counts=True)"
   ]
  },
  {
   "cell_type": "code",
   "execution_count": 8,
   "id": "4e2c342e-1e67-450e-ab49-5c5b7671ea8b",
   "metadata": {
    "tags": []
   },
   "outputs": [
    {
     "data": {
      "text/html": [
       "<div>\n",
       "<style scoped>\n",
       "    .dataframe tbody tr th:only-of-type {\n",
       "        vertical-align: middle;\n",
       "    }\n",
       "\n",
       "    .dataframe tbody tr th {\n",
       "        vertical-align: top;\n",
       "    }\n",
       "\n",
       "    .dataframe thead th {\n",
       "        text-align: right;\n",
       "    }\n",
       "</style>\n",
       "<table border=\"1\" class=\"dataframe\">\n",
       "  <thead>\n",
       "    <tr style=\"text-align: right;\">\n",
       "      <th></th>\n",
       "      <th>ID</th>\n",
       "      <th>var3</th>\n",
       "      <th>var15</th>\n",
       "      <th>imp_ent_var16_ult1</th>\n",
       "      <th>imp_op_var39_comer_ult1</th>\n",
       "      <th>imp_op_var39_comer_ult3</th>\n",
       "      <th>imp_op_var40_comer_ult1</th>\n",
       "      <th>imp_op_var40_comer_ult3</th>\n",
       "      <th>imp_op_var40_efect_ult1</th>\n",
       "      <th>imp_op_var40_efect_ult3</th>\n",
       "      <th>...</th>\n",
       "      <th>saldo_medio_var33_hace2</th>\n",
       "      <th>saldo_medio_var33_hace3</th>\n",
       "      <th>saldo_medio_var33_ult1</th>\n",
       "      <th>saldo_medio_var33_ult3</th>\n",
       "      <th>saldo_medio_var44_hace2</th>\n",
       "      <th>saldo_medio_var44_hace3</th>\n",
       "      <th>saldo_medio_var44_ult1</th>\n",
       "      <th>saldo_medio_var44_ult3</th>\n",
       "      <th>var38</th>\n",
       "      <th>TARGET</th>\n",
       "    </tr>\n",
       "  </thead>\n",
       "  <tbody>\n",
       "    <tr>\n",
       "      <th>count</th>\n",
       "      <td>76020.000000</td>\n",
       "      <td>76020.000000</td>\n",
       "      <td>76020.000000</td>\n",
       "      <td>76020.000000</td>\n",
       "      <td>76020.000000</td>\n",
       "      <td>76020.000000</td>\n",
       "      <td>76020.000000</td>\n",
       "      <td>76020.000000</td>\n",
       "      <td>76020.000000</td>\n",
       "      <td>76020.000000</td>\n",
       "      <td>...</td>\n",
       "      <td>76020.000000</td>\n",
       "      <td>76020.000000</td>\n",
       "      <td>76020.000000</td>\n",
       "      <td>76020.000000</td>\n",
       "      <td>76020.000000</td>\n",
       "      <td>76020.000000</td>\n",
       "      <td>76020.000000</td>\n",
       "      <td>76020.000000</td>\n",
       "      <td>7.602000e+04</td>\n",
       "      <td>76020.000000</td>\n",
       "    </tr>\n",
       "    <tr>\n",
       "      <th>mean</th>\n",
       "      <td>75964.050723</td>\n",
       "      <td>-1523.199277</td>\n",
       "      <td>33.212865</td>\n",
       "      <td>86.208265</td>\n",
       "      <td>72.363067</td>\n",
       "      <td>119.529632</td>\n",
       "      <td>3.559130</td>\n",
       "      <td>6.472698</td>\n",
       "      <td>0.412946</td>\n",
       "      <td>0.567352</td>\n",
       "      <td>...</td>\n",
       "      <td>7.935824</td>\n",
       "      <td>1.365146</td>\n",
       "      <td>12.215580</td>\n",
       "      <td>8.784074</td>\n",
       "      <td>31.505324</td>\n",
       "      <td>1.858575</td>\n",
       "      <td>76.026165</td>\n",
       "      <td>56.614351</td>\n",
       "      <td>1.172358e+05</td>\n",
       "      <td>0.039569</td>\n",
       "    </tr>\n",
       "    <tr>\n",
       "      <th>std</th>\n",
       "      <td>43781.947379</td>\n",
       "      <td>39033.462364</td>\n",
       "      <td>12.956486</td>\n",
       "      <td>1614.757313</td>\n",
       "      <td>339.315831</td>\n",
       "      <td>546.266294</td>\n",
       "      <td>93.155749</td>\n",
       "      <td>153.737066</td>\n",
       "      <td>30.604864</td>\n",
       "      <td>36.513513</td>\n",
       "      <td>...</td>\n",
       "      <td>455.887218</td>\n",
       "      <td>113.959637</td>\n",
       "      <td>783.207399</td>\n",
       "      <td>538.439211</td>\n",
       "      <td>2013.125393</td>\n",
       "      <td>147.786584</td>\n",
       "      <td>4040.337842</td>\n",
       "      <td>2852.579397</td>\n",
       "      <td>1.826646e+05</td>\n",
       "      <td>0.194945</td>\n",
       "    </tr>\n",
       "    <tr>\n",
       "      <th>min</th>\n",
       "      <td>1.000000</td>\n",
       "      <td>-999999.000000</td>\n",
       "      <td>5.000000</td>\n",
       "      <td>0.000000</td>\n",
       "      <td>0.000000</td>\n",
       "      <td>0.000000</td>\n",
       "      <td>0.000000</td>\n",
       "      <td>0.000000</td>\n",
       "      <td>0.000000</td>\n",
       "      <td>0.000000</td>\n",
       "      <td>...</td>\n",
       "      <td>0.000000</td>\n",
       "      <td>0.000000</td>\n",
       "      <td>0.000000</td>\n",
       "      <td>0.000000</td>\n",
       "      <td>0.000000</td>\n",
       "      <td>0.000000</td>\n",
       "      <td>0.000000</td>\n",
       "      <td>0.000000</td>\n",
       "      <td>5.163750e+03</td>\n",
       "      <td>0.000000</td>\n",
       "    </tr>\n",
       "    <tr>\n",
       "      <th>25%</th>\n",
       "      <td>38104.750000</td>\n",
       "      <td>2.000000</td>\n",
       "      <td>23.000000</td>\n",
       "      <td>0.000000</td>\n",
       "      <td>0.000000</td>\n",
       "      <td>0.000000</td>\n",
       "      <td>0.000000</td>\n",
       "      <td>0.000000</td>\n",
       "      <td>0.000000</td>\n",
       "      <td>0.000000</td>\n",
       "      <td>...</td>\n",
       "      <td>0.000000</td>\n",
       "      <td>0.000000</td>\n",
       "      <td>0.000000</td>\n",
       "      <td>0.000000</td>\n",
       "      <td>0.000000</td>\n",
       "      <td>0.000000</td>\n",
       "      <td>0.000000</td>\n",
       "      <td>0.000000</td>\n",
       "      <td>6.787061e+04</td>\n",
       "      <td>0.000000</td>\n",
       "    </tr>\n",
       "    <tr>\n",
       "      <th>50%</th>\n",
       "      <td>76043.000000</td>\n",
       "      <td>2.000000</td>\n",
       "      <td>28.000000</td>\n",
       "      <td>0.000000</td>\n",
       "      <td>0.000000</td>\n",
       "      <td>0.000000</td>\n",
       "      <td>0.000000</td>\n",
       "      <td>0.000000</td>\n",
       "      <td>0.000000</td>\n",
       "      <td>0.000000</td>\n",
       "      <td>...</td>\n",
       "      <td>0.000000</td>\n",
       "      <td>0.000000</td>\n",
       "      <td>0.000000</td>\n",
       "      <td>0.000000</td>\n",
       "      <td>0.000000</td>\n",
       "      <td>0.000000</td>\n",
       "      <td>0.000000</td>\n",
       "      <td>0.000000</td>\n",
       "      <td>1.064092e+05</td>\n",
       "      <td>0.000000</td>\n",
       "    </tr>\n",
       "    <tr>\n",
       "      <th>75%</th>\n",
       "      <td>113748.750000</td>\n",
       "      <td>2.000000</td>\n",
       "      <td>40.000000</td>\n",
       "      <td>0.000000</td>\n",
       "      <td>0.000000</td>\n",
       "      <td>0.000000</td>\n",
       "      <td>0.000000</td>\n",
       "      <td>0.000000</td>\n",
       "      <td>0.000000</td>\n",
       "      <td>0.000000</td>\n",
       "      <td>...</td>\n",
       "      <td>0.000000</td>\n",
       "      <td>0.000000</td>\n",
       "      <td>0.000000</td>\n",
       "      <td>0.000000</td>\n",
       "      <td>0.000000</td>\n",
       "      <td>0.000000</td>\n",
       "      <td>0.000000</td>\n",
       "      <td>0.000000</td>\n",
       "      <td>1.187563e+05</td>\n",
       "      <td>0.000000</td>\n",
       "    </tr>\n",
       "    <tr>\n",
       "      <th>max</th>\n",
       "      <td>151838.000000</td>\n",
       "      <td>238.000000</td>\n",
       "      <td>105.000000</td>\n",
       "      <td>210000.000000</td>\n",
       "      <td>12888.030000</td>\n",
       "      <td>21024.810000</td>\n",
       "      <td>8237.820000</td>\n",
       "      <td>11073.570000</td>\n",
       "      <td>6600.000000</td>\n",
       "      <td>6600.000000</td>\n",
       "      <td>...</td>\n",
       "      <td>50003.880000</td>\n",
       "      <td>20385.720000</td>\n",
       "      <td>138831.630000</td>\n",
       "      <td>91778.730000</td>\n",
       "      <td>438329.220000</td>\n",
       "      <td>24650.010000</td>\n",
       "      <td>681462.900000</td>\n",
       "      <td>397884.300000</td>\n",
       "      <td>2.203474e+07</td>\n",
       "      <td>1.000000</td>\n",
       "    </tr>\n",
       "  </tbody>\n",
       "</table>\n",
       "<p>8 rows × 371 columns</p>\n",
       "</div>"
      ],
      "text/plain": [
       "                  ID           var3         var15  imp_ent_var16_ult1  \\\n",
       "count   76020.000000   76020.000000  76020.000000        76020.000000   \n",
       "mean    75964.050723   -1523.199277     33.212865           86.208265   \n",
       "std     43781.947379   39033.462364     12.956486         1614.757313   \n",
       "min         1.000000 -999999.000000      5.000000            0.000000   \n",
       "25%     38104.750000       2.000000     23.000000            0.000000   \n",
       "50%     76043.000000       2.000000     28.000000            0.000000   \n",
       "75%    113748.750000       2.000000     40.000000            0.000000   \n",
       "max    151838.000000     238.000000    105.000000       210000.000000   \n",
       "\n",
       "       imp_op_var39_comer_ult1  imp_op_var39_comer_ult3  \\\n",
       "count             76020.000000             76020.000000   \n",
       "mean                 72.363067               119.529632   \n",
       "std                 339.315831               546.266294   \n",
       "min                   0.000000                 0.000000   \n",
       "25%                   0.000000                 0.000000   \n",
       "50%                   0.000000                 0.000000   \n",
       "75%                   0.000000                 0.000000   \n",
       "max               12888.030000             21024.810000   \n",
       "\n",
       "       imp_op_var40_comer_ult1  imp_op_var40_comer_ult3  \\\n",
       "count             76020.000000             76020.000000   \n",
       "mean                  3.559130                 6.472698   \n",
       "std                  93.155749               153.737066   \n",
       "min                   0.000000                 0.000000   \n",
       "25%                   0.000000                 0.000000   \n",
       "50%                   0.000000                 0.000000   \n",
       "75%                   0.000000                 0.000000   \n",
       "max                8237.820000             11073.570000   \n",
       "\n",
       "       imp_op_var40_efect_ult1  imp_op_var40_efect_ult3  ...  \\\n",
       "count             76020.000000             76020.000000  ...   \n",
       "mean                  0.412946                 0.567352  ...   \n",
       "std                  30.604864                36.513513  ...   \n",
       "min                   0.000000                 0.000000  ...   \n",
       "25%                   0.000000                 0.000000  ...   \n",
       "50%                   0.000000                 0.000000  ...   \n",
       "75%                   0.000000                 0.000000  ...   \n",
       "max                6600.000000              6600.000000  ...   \n",
       "\n",
       "       saldo_medio_var33_hace2  saldo_medio_var33_hace3  \\\n",
       "count             76020.000000             76020.000000   \n",
       "mean                  7.935824                 1.365146   \n",
       "std                 455.887218               113.959637   \n",
       "min                   0.000000                 0.000000   \n",
       "25%                   0.000000                 0.000000   \n",
       "50%                   0.000000                 0.000000   \n",
       "75%                   0.000000                 0.000000   \n",
       "max               50003.880000             20385.720000   \n",
       "\n",
       "       saldo_medio_var33_ult1  saldo_medio_var33_ult3  \\\n",
       "count            76020.000000            76020.000000   \n",
       "mean                12.215580                8.784074   \n",
       "std                783.207399              538.439211   \n",
       "min                  0.000000                0.000000   \n",
       "25%                  0.000000                0.000000   \n",
       "50%                  0.000000                0.000000   \n",
       "75%                  0.000000                0.000000   \n",
       "max             138831.630000            91778.730000   \n",
       "\n",
       "       saldo_medio_var44_hace2  saldo_medio_var44_hace3  \\\n",
       "count             76020.000000             76020.000000   \n",
       "mean                 31.505324                 1.858575   \n",
       "std                2013.125393               147.786584   \n",
       "min                   0.000000                 0.000000   \n",
       "25%                   0.000000                 0.000000   \n",
       "50%                   0.000000                 0.000000   \n",
       "75%                   0.000000                 0.000000   \n",
       "max              438329.220000             24650.010000   \n",
       "\n",
       "       saldo_medio_var44_ult1  saldo_medio_var44_ult3         var38  \\\n",
       "count            76020.000000            76020.000000  7.602000e+04   \n",
       "mean                76.026165               56.614351  1.172358e+05   \n",
       "std               4040.337842             2852.579397  1.826646e+05   \n",
       "min                  0.000000                0.000000  5.163750e+03   \n",
       "25%                  0.000000                0.000000  6.787061e+04   \n",
       "50%                  0.000000                0.000000  1.064092e+05   \n",
       "75%                  0.000000                0.000000  1.187563e+05   \n",
       "max             681462.900000           397884.300000  2.203474e+07   \n",
       "\n",
       "             TARGET  \n",
       "count  76020.000000  \n",
       "mean       0.039569  \n",
       "std        0.194945  \n",
       "min        0.000000  \n",
       "25%        0.000000  \n",
       "50%        0.000000  \n",
       "75%        0.000000  \n",
       "max        1.000000  \n",
       "\n",
       "[8 rows x 371 columns]"
      ]
     },
     "execution_count": 8,
     "metadata": {},
     "output_type": "execute_result"
    }
   ],
   "source": [
    "df.describe()"
   ]
  },
  {
   "cell_type": "code",
   "execution_count": 9,
   "id": "f0c521cd-0ac3-4aaa-b85d-060b842aea8b",
   "metadata": {
    "tags": []
   },
   "outputs": [
    {
     "data": {
      "text/plain": [
       "ID                         0.0\n",
       "var3                       0.0\n",
       "var15                      0.0\n",
       "imp_ent_var16_ult1         0.0\n",
       "imp_op_var39_comer_ult1    0.0\n",
       "                          ... \n",
       "saldo_medio_var44_hace3    0.0\n",
       "saldo_medio_var44_ult1     0.0\n",
       "saldo_medio_var44_ult3     0.0\n",
       "var38                      0.0\n",
       "TARGET                     0.0\n",
       "Length: 371, dtype: float64"
      ]
     },
     "execution_count": 9,
     "metadata": {},
     "output_type": "execute_result"
    }
   ],
   "source": [
    "df.isnull().mean()"
   ]
  },
  {
   "cell_type": "markdown",
   "id": "12859335-0714-4081-9b31-be396c56632c",
   "metadata": {},
   "source": [
    "Target values"
   ]
  },
  {
   "cell_type": "code",
   "execution_count": 10,
   "id": "88c5e795-f93e-4ad6-96a4-e5e187ee6dbc",
   "metadata": {
    "tags": []
   },
   "outputs": [
    {
     "data": {
      "text/plain": [
       "TARGET\n",
       "0    0.960431\n",
       "1    0.039569\n",
       "Name: count, dtype: float64"
      ]
     },
     "execution_count": 10,
     "metadata": {},
     "output_type": "execute_result"
    }
   ],
   "source": [
    "df.TARGET.value_counts() / df.shape[0]"
   ]
  },
  {
   "cell_type": "markdown",
   "id": "4b17696f-96ed-4fdb-a53f-44c9f2a815e4",
   "metadata": {},
   "source": [
    "Only 4% of records are labeled as satisfied customers."
   ]
  },
  {
   "cell_type": "markdown",
   "id": "9738d8c2-1236-496c-a63d-529c492cce6a",
   "metadata": {
    "tags": []
   },
   "source": [
    "## Data Preparation"
   ]
  },
  {
   "cell_type": "code",
   "execution_count": 11,
   "id": "60819dc6-d007-4baa-ac39-b2ec399c775b",
   "metadata": {
    "tags": []
   },
   "outputs": [],
   "source": [
    "df_full_train = df"
   ]
  },
  {
   "cell_type": "code",
   "execution_count": 12,
   "id": "8167f371-f504-41da-997c-faa2e8ffefa8",
   "metadata": {
    "tags": []
   },
   "outputs": [],
   "source": [
    "df_test = pd.read_csv('data/test.csv')"
   ]
  },
  {
   "cell_type": "code",
   "execution_count": 13,
   "id": "a860fb39-4efc-4931-a115-33c59cbccd91",
   "metadata": {
    "tags": []
   },
   "outputs": [
    {
     "data": {
      "text/plain": [
       "var3\n",
       " 2         74165\n",
       " 8           138\n",
       "-999999      116\n",
       " 9           110\n",
       " 3           108\n",
       "           ...  \n",
       " 231           1\n",
       " 188           1\n",
       " 168           1\n",
       " 135           1\n",
       " 87            1\n",
       "Name: count, Length: 208, dtype: int64"
      ]
     },
     "execution_count": 13,
     "metadata": {},
     "output_type": "execute_result"
    }
   ],
   "source": [
    "df_full_train.var3.value_counts()"
   ]
  },
  {
   "cell_type": "code",
   "execution_count": 14,
   "id": "fe1ab3f6-ead3-4ca1-9a70-93c00fe9143d",
   "metadata": {
    "tags": []
   },
   "outputs": [
    {
     "data": {
      "text/plain": [
       "var3\n",
       " 2         73962\n",
       "-999999      120\n",
       " 8           116\n",
       " 9           108\n",
       " 13          107\n",
       "           ...  \n",
       " 113           1\n",
       " 220           1\n",
       " 199           1\n",
       " 101           1\n",
       " 225           1\n",
       "Name: count, Length: 199, dtype: int64"
      ]
     },
     "execution_count": 14,
     "metadata": {},
     "output_type": "execute_result"
    }
   ],
   "source": [
    "df_test.var3.value_counts()"
   ]
  },
  {
   "cell_type": "code",
   "execution_count": 15,
   "id": "3929b322-161c-4b46-baa0-fb4b4d85b04d",
   "metadata": {
    "tags": []
   },
   "outputs": [],
   "source": [
    "# Missing values are coded as -999999. Replace them as NaN\n",
    "for df in [df_full_train, df_test]:\n",
    "    df['var3'] = df['var3'].replace(to_replace=-999999, value=2)"
   ]
  },
  {
   "cell_type": "code",
   "execution_count": 16,
   "id": "b5eb922d-9990-4795-90a4-8cf8c96625b6",
   "metadata": {
    "tags": []
   },
   "outputs": [
    {
     "data": {
      "text/html": [
       "<div>\n",
       "<style scoped>\n",
       "    .dataframe tbody tr th:only-of-type {\n",
       "        vertical-align: middle;\n",
       "    }\n",
       "\n",
       "    .dataframe tbody tr th {\n",
       "        vertical-align: top;\n",
       "    }\n",
       "\n",
       "    .dataframe thead th {\n",
       "        text-align: right;\n",
       "    }\n",
       "</style>\n",
       "<table border=\"1\" class=\"dataframe\">\n",
       "  <thead>\n",
       "    <tr style=\"text-align: right;\">\n",
       "      <th></th>\n",
       "      <th>ID</th>\n",
       "      <th>var3</th>\n",
       "      <th>var15</th>\n",
       "      <th>imp_ent_var16_ult1</th>\n",
       "      <th>imp_op_var39_comer_ult1</th>\n",
       "      <th>imp_op_var39_comer_ult3</th>\n",
       "      <th>imp_op_var40_comer_ult1</th>\n",
       "      <th>imp_op_var40_comer_ult3</th>\n",
       "      <th>imp_op_var40_efect_ult1</th>\n",
       "      <th>imp_op_var40_efect_ult3</th>\n",
       "      <th>...</th>\n",
       "      <th>saldo_medio_var33_hace2</th>\n",
       "      <th>saldo_medio_var33_hace3</th>\n",
       "      <th>saldo_medio_var33_ult1</th>\n",
       "      <th>saldo_medio_var33_ult3</th>\n",
       "      <th>saldo_medio_var44_hace2</th>\n",
       "      <th>saldo_medio_var44_hace3</th>\n",
       "      <th>saldo_medio_var44_ult1</th>\n",
       "      <th>saldo_medio_var44_ult3</th>\n",
       "      <th>var38</th>\n",
       "      <th>TARGET</th>\n",
       "    </tr>\n",
       "  </thead>\n",
       "  <tbody>\n",
       "    <tr>\n",
       "      <th>count</th>\n",
       "      <td>76020.0</td>\n",
       "      <td>76020.0</td>\n",
       "      <td>76020.0</td>\n",
       "      <td>76020.0</td>\n",
       "      <td>76020.0</td>\n",
       "      <td>76020.0</td>\n",
       "      <td>76020.0</td>\n",
       "      <td>76020.0</td>\n",
       "      <td>76020.0</td>\n",
       "      <td>76020.0</td>\n",
       "      <td>...</td>\n",
       "      <td>76020.0</td>\n",
       "      <td>76020.0</td>\n",
       "      <td>76020.0</td>\n",
       "      <td>76020.0</td>\n",
       "      <td>76020.0</td>\n",
       "      <td>76020.0</td>\n",
       "      <td>76020.0</td>\n",
       "      <td>76020.0</td>\n",
       "      <td>76020.0</td>\n",
       "      <td>76020.0</td>\n",
       "    </tr>\n",
       "    <tr>\n",
       "      <th>mean</th>\n",
       "      <td>75964.0</td>\n",
       "      <td>3.0</td>\n",
       "      <td>33.0</td>\n",
       "      <td>86.0</td>\n",
       "      <td>72.0</td>\n",
       "      <td>120.0</td>\n",
       "      <td>4.0</td>\n",
       "      <td>6.0</td>\n",
       "      <td>0.0</td>\n",
       "      <td>1.0</td>\n",
       "      <td>...</td>\n",
       "      <td>8.0</td>\n",
       "      <td>1.0</td>\n",
       "      <td>12.0</td>\n",
       "      <td>9.0</td>\n",
       "      <td>32.0</td>\n",
       "      <td>2.0</td>\n",
       "      <td>76.0</td>\n",
       "      <td>57.0</td>\n",
       "      <td>117236.0</td>\n",
       "      <td>0.0</td>\n",
       "    </tr>\n",
       "    <tr>\n",
       "      <th>std</th>\n",
       "      <td>43782.0</td>\n",
       "      <td>9.0</td>\n",
       "      <td>13.0</td>\n",
       "      <td>1615.0</td>\n",
       "      <td>339.0</td>\n",
       "      <td>546.0</td>\n",
       "      <td>93.0</td>\n",
       "      <td>154.0</td>\n",
       "      <td>31.0</td>\n",
       "      <td>37.0</td>\n",
       "      <td>...</td>\n",
       "      <td>456.0</td>\n",
       "      <td>114.0</td>\n",
       "      <td>783.0</td>\n",
       "      <td>538.0</td>\n",
       "      <td>2013.0</td>\n",
       "      <td>148.0</td>\n",
       "      <td>4040.0</td>\n",
       "      <td>2853.0</td>\n",
       "      <td>182665.0</td>\n",
       "      <td>0.0</td>\n",
       "    </tr>\n",
       "    <tr>\n",
       "      <th>min</th>\n",
       "      <td>1.0</td>\n",
       "      <td>0.0</td>\n",
       "      <td>5.0</td>\n",
       "      <td>0.0</td>\n",
       "      <td>0.0</td>\n",
       "      <td>0.0</td>\n",
       "      <td>0.0</td>\n",
       "      <td>0.0</td>\n",
       "      <td>0.0</td>\n",
       "      <td>0.0</td>\n",
       "      <td>...</td>\n",
       "      <td>0.0</td>\n",
       "      <td>0.0</td>\n",
       "      <td>0.0</td>\n",
       "      <td>0.0</td>\n",
       "      <td>0.0</td>\n",
       "      <td>0.0</td>\n",
       "      <td>0.0</td>\n",
       "      <td>0.0</td>\n",
       "      <td>5164.0</td>\n",
       "      <td>0.0</td>\n",
       "    </tr>\n",
       "    <tr>\n",
       "      <th>25%</th>\n",
       "      <td>38105.0</td>\n",
       "      <td>2.0</td>\n",
       "      <td>23.0</td>\n",
       "      <td>0.0</td>\n",
       "      <td>0.0</td>\n",
       "      <td>0.0</td>\n",
       "      <td>0.0</td>\n",
       "      <td>0.0</td>\n",
       "      <td>0.0</td>\n",
       "      <td>0.0</td>\n",
       "      <td>...</td>\n",
       "      <td>0.0</td>\n",
       "      <td>0.0</td>\n",
       "      <td>0.0</td>\n",
       "      <td>0.0</td>\n",
       "      <td>0.0</td>\n",
       "      <td>0.0</td>\n",
       "      <td>0.0</td>\n",
       "      <td>0.0</td>\n",
       "      <td>67871.0</td>\n",
       "      <td>0.0</td>\n",
       "    </tr>\n",
       "    <tr>\n",
       "      <th>50%</th>\n",
       "      <td>76043.0</td>\n",
       "      <td>2.0</td>\n",
       "      <td>28.0</td>\n",
       "      <td>0.0</td>\n",
       "      <td>0.0</td>\n",
       "      <td>0.0</td>\n",
       "      <td>0.0</td>\n",
       "      <td>0.0</td>\n",
       "      <td>0.0</td>\n",
       "      <td>0.0</td>\n",
       "      <td>...</td>\n",
       "      <td>0.0</td>\n",
       "      <td>0.0</td>\n",
       "      <td>0.0</td>\n",
       "      <td>0.0</td>\n",
       "      <td>0.0</td>\n",
       "      <td>0.0</td>\n",
       "      <td>0.0</td>\n",
       "      <td>0.0</td>\n",
       "      <td>106409.0</td>\n",
       "      <td>0.0</td>\n",
       "    </tr>\n",
       "    <tr>\n",
       "      <th>75%</th>\n",
       "      <td>113749.0</td>\n",
       "      <td>2.0</td>\n",
       "      <td>40.0</td>\n",
       "      <td>0.0</td>\n",
       "      <td>0.0</td>\n",
       "      <td>0.0</td>\n",
       "      <td>0.0</td>\n",
       "      <td>0.0</td>\n",
       "      <td>0.0</td>\n",
       "      <td>0.0</td>\n",
       "      <td>...</td>\n",
       "      <td>0.0</td>\n",
       "      <td>0.0</td>\n",
       "      <td>0.0</td>\n",
       "      <td>0.0</td>\n",
       "      <td>0.0</td>\n",
       "      <td>0.0</td>\n",
       "      <td>0.0</td>\n",
       "      <td>0.0</td>\n",
       "      <td>118756.0</td>\n",
       "      <td>0.0</td>\n",
       "    </tr>\n",
       "    <tr>\n",
       "      <th>max</th>\n",
       "      <td>151838.0</td>\n",
       "      <td>238.0</td>\n",
       "      <td>105.0</td>\n",
       "      <td>210000.0</td>\n",
       "      <td>12888.0</td>\n",
       "      <td>21025.0</td>\n",
       "      <td>8238.0</td>\n",
       "      <td>11074.0</td>\n",
       "      <td>6600.0</td>\n",
       "      <td>6600.0</td>\n",
       "      <td>...</td>\n",
       "      <td>50004.0</td>\n",
       "      <td>20386.0</td>\n",
       "      <td>138832.0</td>\n",
       "      <td>91779.0</td>\n",
       "      <td>438329.0</td>\n",
       "      <td>24650.0</td>\n",
       "      <td>681463.0</td>\n",
       "      <td>397884.0</td>\n",
       "      <td>22034739.0</td>\n",
       "      <td>1.0</td>\n",
       "    </tr>\n",
       "  </tbody>\n",
       "</table>\n",
       "<p>8 rows × 371 columns</p>\n",
       "</div>"
      ],
      "text/plain": [
       "             ID     var3    var15  imp_ent_var16_ult1  \\\n",
       "count   76020.0  76020.0  76020.0             76020.0   \n",
       "mean    75964.0      3.0     33.0                86.0   \n",
       "std     43782.0      9.0     13.0              1615.0   \n",
       "min         1.0      0.0      5.0                 0.0   \n",
       "25%     38105.0      2.0     23.0                 0.0   \n",
       "50%     76043.0      2.0     28.0                 0.0   \n",
       "75%    113749.0      2.0     40.0                 0.0   \n",
       "max    151838.0    238.0    105.0            210000.0   \n",
       "\n",
       "       imp_op_var39_comer_ult1  imp_op_var39_comer_ult3  \\\n",
       "count                  76020.0                  76020.0   \n",
       "mean                      72.0                    120.0   \n",
       "std                      339.0                    546.0   \n",
       "min                        0.0                      0.0   \n",
       "25%                        0.0                      0.0   \n",
       "50%                        0.0                      0.0   \n",
       "75%                        0.0                      0.0   \n",
       "max                    12888.0                  21025.0   \n",
       "\n",
       "       imp_op_var40_comer_ult1  imp_op_var40_comer_ult3  \\\n",
       "count                  76020.0                  76020.0   \n",
       "mean                       4.0                      6.0   \n",
       "std                       93.0                    154.0   \n",
       "min                        0.0                      0.0   \n",
       "25%                        0.0                      0.0   \n",
       "50%                        0.0                      0.0   \n",
       "75%                        0.0                      0.0   \n",
       "max                     8238.0                  11074.0   \n",
       "\n",
       "       imp_op_var40_efect_ult1  imp_op_var40_efect_ult3  ...  \\\n",
       "count                  76020.0                  76020.0  ...   \n",
       "mean                       0.0                      1.0  ...   \n",
       "std                       31.0                     37.0  ...   \n",
       "min                        0.0                      0.0  ...   \n",
       "25%                        0.0                      0.0  ...   \n",
       "50%                        0.0                      0.0  ...   \n",
       "75%                        0.0                      0.0  ...   \n",
       "max                     6600.0                   6600.0  ...   \n",
       "\n",
       "       saldo_medio_var33_hace2  saldo_medio_var33_hace3  \\\n",
       "count                  76020.0                  76020.0   \n",
       "mean                       8.0                      1.0   \n",
       "std                      456.0                    114.0   \n",
       "min                        0.0                      0.0   \n",
       "25%                        0.0                      0.0   \n",
       "50%                        0.0                      0.0   \n",
       "75%                        0.0                      0.0   \n",
       "max                    50004.0                  20386.0   \n",
       "\n",
       "       saldo_medio_var33_ult1  saldo_medio_var33_ult3  \\\n",
       "count                 76020.0                 76020.0   \n",
       "mean                     12.0                     9.0   \n",
       "std                     783.0                   538.0   \n",
       "min                       0.0                     0.0   \n",
       "25%                       0.0                     0.0   \n",
       "50%                       0.0                     0.0   \n",
       "75%                       0.0                     0.0   \n",
       "max                  138832.0                 91779.0   \n",
       "\n",
       "       saldo_medio_var44_hace2  saldo_medio_var44_hace3  \\\n",
       "count                  76020.0                  76020.0   \n",
       "mean                      32.0                      2.0   \n",
       "std                     2013.0                    148.0   \n",
       "min                        0.0                      0.0   \n",
       "25%                        0.0                      0.0   \n",
       "50%                        0.0                      0.0   \n",
       "75%                        0.0                      0.0   \n",
       "max                   438329.0                  24650.0   \n",
       "\n",
       "       saldo_medio_var44_ult1  saldo_medio_var44_ult3       var38   TARGET  \n",
       "count                 76020.0                 76020.0     76020.0  76020.0  \n",
       "mean                     76.0                    57.0    117236.0      0.0  \n",
       "std                    4040.0                  2853.0    182665.0      0.0  \n",
       "min                       0.0                     0.0      5164.0      0.0  \n",
       "25%                       0.0                     0.0     67871.0      0.0  \n",
       "50%                       0.0                     0.0    106409.0      0.0  \n",
       "75%                       0.0                     0.0    118756.0      0.0  \n",
       "max                  681463.0                397884.0  22034739.0      1.0  \n",
       "\n",
       "[8 rows x 371 columns]"
      ]
     },
     "execution_count": 16,
     "metadata": {},
     "output_type": "execute_result"
    }
   ],
   "source": [
    "df_full_train.describe().round()"
   ]
  },
  {
   "cell_type": "code",
   "execution_count": 17,
   "id": "452f7ec5-08d6-4d28-a4a1-a4c97aa7904c",
   "metadata": {
    "tags": []
   },
   "outputs": [],
   "source": [
    "del df_full_train['ID']\n",
    "del df_test['ID']"
   ]
  },
  {
   "cell_type": "code",
   "execution_count": 18,
   "id": "86e29789-e100-4c5c-a1d6-b02a1faecedb",
   "metadata": {
    "tags": []
   },
   "outputs": [],
   "source": [
    "# Split data\n",
    "df_train, df_val = train_test_split(df_full_train, test_size=0.20, random_state=1)"
   ]
  },
  {
   "cell_type": "code",
   "execution_count": 19,
   "id": "3595a9c0-0a49-4f5a-925c-f5515d99a560",
   "metadata": {},
   "outputs": [
    {
     "data": {
      "text/plain": [
       "(60816, 370)"
      ]
     },
     "metadata": {},
     "output_type": "display_data"
    },
    {
     "data": {
      "text/plain": [
       "(15204, 370)"
      ]
     },
     "metadata": {},
     "output_type": "display_data"
    },
    {
     "data": {
      "text/plain": [
       "(75818, 369)"
      ]
     },
     "metadata": {},
     "output_type": "display_data"
    }
   ],
   "source": [
    "display(df_train.shape)\n",
    "display(df_val.shape)\n",
    "display(df_test.shape)"
   ]
  },
  {
   "cell_type": "code",
   "execution_count": 20,
   "id": "adefe69b-c875-4030-99ae-d22cd6d37718",
   "metadata": {
    "tags": []
   },
   "outputs": [],
   "source": [
    "df_train = df_train.reset_index(drop=True)\n",
    "df_val = df_val.reset_index(drop=True)\n",
    "df_test = df_test.reset_index(drop=True)"
   ]
  },
  {
   "cell_type": "code",
   "execution_count": 21,
   "id": "4a27cc52-3565-4868-8899-1faa0b8cbfee",
   "metadata": {
    "tags": []
   },
   "outputs": [],
   "source": [
    "y_train = df_train['TARGET'].values\n",
    "y_val = df_val['TARGET'].values\n",
    "\n",
    "del df_train['TARGET']\n",
    "del df_val['TARGET']"
   ]
  },
  {
   "cell_type": "markdown",
   "id": "b6146337-c35e-4550-8c7a-e6221dd6d70f",
   "metadata": {},
   "source": [
    "### Transform data into vectors"
   ]
  },
  {
   "cell_type": "code",
   "execution_count": 22,
   "id": "99ed5c22-8192-4d15-8b38-4626a91f82fb",
   "metadata": {
    "tags": []
   },
   "outputs": [],
   "source": [
    "from sklearn.feature_extraction import DictVectorizer"
   ]
  },
  {
   "cell_type": "code",
   "execution_count": 23,
   "id": "4399f3ea-f1e2-4dcf-a472-a32c2ee247a8",
   "metadata": {
    "tags": []
   },
   "outputs": [],
   "source": [
    "train_dicts = df_train.to_dict(orient='records')\n",
    "val_dicts = df_val.to_dict(orient='records')"
   ]
  },
  {
   "cell_type": "code",
   "execution_count": 24,
   "id": "31f8ad00-995b-4790-a46b-e5f92a35c31e",
   "metadata": {
    "tags": []
   },
   "outputs": [],
   "source": [
    "dv = DictVectorizer(sparse=False)\n",
    "\n",
    "X_train = dv.fit_transform(train_dicts)\n",
    "X_val = dv.transform(val_dicts)"
   ]
  },
  {
   "cell_type": "markdown",
   "id": "a0cd6f17-f2d7-4c06-aa1f-56d6a3cee6f7",
   "metadata": {},
   "source": [
    "## Decision tree classification using Scikit-Learn"
   ]
  },
  {
   "cell_type": "code",
   "execution_count": 23,
   "id": "f839296d-c46a-46d5-9634-1804e7e0fdb7",
   "metadata": {
    "tags": []
   },
   "outputs": [],
   "source": [
    "from sklearn.tree import DecisionTreeClassifier\n",
    "from sklearn.metrics import roc_auc_score\n",
    "from sklearn.tree import export_text"
   ]
  },
  {
   "cell_type": "markdown",
   "id": "61749abe-dde9-4d6e-b08f-a5cee2954b86",
   "metadata": {},
   "source": [
    "### Training with default parameters"
   ]
  },
  {
   "cell_type": "code",
   "execution_count": 28,
   "id": "529afc9d-4e4c-43da-8808-4999a2fc3c85",
   "metadata": {
    "tags": []
   },
   "outputs": [
    {
     "data": {
      "text/html": [
       "<style>#sk-container-id-1 {color: black;}#sk-container-id-1 pre{padding: 0;}#sk-container-id-1 div.sk-toggleable {background-color: white;}#sk-container-id-1 label.sk-toggleable__label {cursor: pointer;display: block;width: 100%;margin-bottom: 0;padding: 0.3em;box-sizing: border-box;text-align: center;}#sk-container-id-1 label.sk-toggleable__label-arrow:before {content: \"▸\";float: left;margin-right: 0.25em;color: #696969;}#sk-container-id-1 label.sk-toggleable__label-arrow:hover:before {color: black;}#sk-container-id-1 div.sk-estimator:hover label.sk-toggleable__label-arrow:before {color: black;}#sk-container-id-1 div.sk-toggleable__content {max-height: 0;max-width: 0;overflow: hidden;text-align: left;background-color: #f0f8ff;}#sk-container-id-1 div.sk-toggleable__content pre {margin: 0.2em;color: black;border-radius: 0.25em;background-color: #f0f8ff;}#sk-container-id-1 input.sk-toggleable__control:checked~div.sk-toggleable__content {max-height: 200px;max-width: 100%;overflow: auto;}#sk-container-id-1 input.sk-toggleable__control:checked~label.sk-toggleable__label-arrow:before {content: \"▾\";}#sk-container-id-1 div.sk-estimator input.sk-toggleable__control:checked~label.sk-toggleable__label {background-color: #d4ebff;}#sk-container-id-1 div.sk-label input.sk-toggleable__control:checked~label.sk-toggleable__label {background-color: #d4ebff;}#sk-container-id-1 input.sk-hidden--visually {border: 0;clip: rect(1px 1px 1px 1px);clip: rect(1px, 1px, 1px, 1px);height: 1px;margin: -1px;overflow: hidden;padding: 0;position: absolute;width: 1px;}#sk-container-id-1 div.sk-estimator {font-family: monospace;background-color: #f0f8ff;border: 1px dotted black;border-radius: 0.25em;box-sizing: border-box;margin-bottom: 0.5em;}#sk-container-id-1 div.sk-estimator:hover {background-color: #d4ebff;}#sk-container-id-1 div.sk-parallel-item::after {content: \"\";width: 100%;border-bottom: 1px solid gray;flex-grow: 1;}#sk-container-id-1 div.sk-label:hover label.sk-toggleable__label {background-color: #d4ebff;}#sk-container-id-1 div.sk-serial::before {content: \"\";position: absolute;border-left: 1px solid gray;box-sizing: border-box;top: 0;bottom: 0;left: 50%;z-index: 0;}#sk-container-id-1 div.sk-serial {display: flex;flex-direction: column;align-items: center;background-color: white;padding-right: 0.2em;padding-left: 0.2em;position: relative;}#sk-container-id-1 div.sk-item {position: relative;z-index: 1;}#sk-container-id-1 div.sk-parallel {display: flex;align-items: stretch;justify-content: center;background-color: white;position: relative;}#sk-container-id-1 div.sk-item::before, #sk-container-id-1 div.sk-parallel-item::before {content: \"\";position: absolute;border-left: 1px solid gray;box-sizing: border-box;top: 0;bottom: 0;left: 50%;z-index: -1;}#sk-container-id-1 div.sk-parallel-item {display: flex;flex-direction: column;z-index: 1;position: relative;background-color: white;}#sk-container-id-1 div.sk-parallel-item:first-child::after {align-self: flex-end;width: 50%;}#sk-container-id-1 div.sk-parallel-item:last-child::after {align-self: flex-start;width: 50%;}#sk-container-id-1 div.sk-parallel-item:only-child::after {width: 0;}#sk-container-id-1 div.sk-dashed-wrapped {border: 1px dashed gray;margin: 0 0.4em 0.5em 0.4em;box-sizing: border-box;padding-bottom: 0.4em;background-color: white;}#sk-container-id-1 div.sk-label label {font-family: monospace;font-weight: bold;display: inline-block;line-height: 1.2em;}#sk-container-id-1 div.sk-label-container {text-align: center;}#sk-container-id-1 div.sk-container {/* jupyter's `normalize.less` sets `[hidden] { display: none; }` but bootstrap.min.css set `[hidden] { display: none !important; }` so we also need the `!important` here to be able to override the default hidden behavior on the sphinx rendered scikit-learn.org. See: https://github.com/scikit-learn/scikit-learn/issues/21755 */display: inline-block !important;position: relative;}#sk-container-id-1 div.sk-text-repr-fallback {display: none;}</style><div id=\"sk-container-id-1\" class=\"sk-top-container\"><div class=\"sk-text-repr-fallback\"><pre>DecisionTreeClassifier()</pre><b>In a Jupyter environment, please rerun this cell to show the HTML representation or trust the notebook. <br />On GitHub, the HTML representation is unable to render, please try loading this page with nbviewer.org.</b></div><div class=\"sk-container\" hidden><div class=\"sk-item\"><div class=\"sk-estimator sk-toggleable\"><input class=\"sk-toggleable__control sk-hidden--visually\" id=\"sk-estimator-id-1\" type=\"checkbox\" checked><label for=\"sk-estimator-id-1\" class=\"sk-toggleable__label sk-toggleable__label-arrow\">DecisionTreeClassifier</label><div class=\"sk-toggleable__content\"><pre>DecisionTreeClassifier()</pre></div></div></div></div></div>"
      ],
      "text/plain": [
       "DecisionTreeClassifier()"
      ]
     },
     "execution_count": 28,
     "metadata": {},
     "output_type": "execute_result"
    }
   ],
   "source": [
    "dt = DecisionTreeClassifier()\n",
    "dt.fit(X_train, y_train)"
   ]
  },
  {
   "cell_type": "code",
   "execution_count": 29,
   "id": "31fbbb90-4354-4155-a6a7-399ba8a08fd2",
   "metadata": {
    "tags": []
   },
   "outputs": [
    {
     "data": {
      "text/plain": [
       "array([[0., 1.],\n",
       "       [1., 0.],\n",
       "       [1., 0.],\n",
       "       ...,\n",
       "       [1., 0.],\n",
       "       [1., 0.],\n",
       "       [1., 0.]])"
      ]
     },
     "execution_count": 29,
     "metadata": {},
     "output_type": "execute_result"
    }
   ],
   "source": [
    "# dt.predict_proba(X_val) returns\n",
    "# [probability of class 0, probability of class 1]\n",
    "dt.predict_proba(X_val)"
   ]
  },
  {
   "cell_type": "code",
   "execution_count": 30,
   "id": "9ea4c210-e8dc-4582-b397-0e002f1d6c43",
   "metadata": {
    "tags": []
   },
   "outputs": [
    {
     "data": {
      "text/plain": [
       "0.5727875018896795"
      ]
     },
     "execution_count": 30,
     "metadata": {},
     "output_type": "execute_result"
    }
   ],
   "source": [
    "# Validation\n",
    "y_pred = dt.predict_proba(X_val)[:, 1]\n",
    "roc_auc_score(y_val, y_pred)"
   ]
  },
  {
   "cell_type": "code",
   "execution_count": 31,
   "id": "c4463adc-778b-4818-b66f-39e37c575b91",
   "metadata": {
    "tags": []
   },
   "outputs": [
    {
     "data": {
      "text/plain": [
       "0.999320440276767"
      ]
     },
     "execution_count": 31,
     "metadata": {},
     "output_type": "execute_result"
    }
   ],
   "source": [
    "# Evaluate AUC on the training dataset\n",
    "y_pred = dt.predict_proba(X_train)[:, 1]\n",
    "roc_auc_score(y_train, y_pred)"
   ]
  },
  {
   "cell_type": "markdown",
   "id": "69e92a99-a873-4038-a880-4a6f8c338fbd",
   "metadata": {},
   "source": [
    "### Decision tree parameter tuning"
   ]
  },
  {
   "cell_type": "code",
   "execution_count": 32,
   "id": "91112c5f-837c-4b08-81b9-a5adbe61dac3",
   "metadata": {
    "tags": []
   },
   "outputs": [
    {
     "name": "stdout",
     "output_type": "stream",
     "text": [
      "   1 -> 0.675\n",
      "   2 -> 0.772\n",
      "   3 -> 0.798\n",
      "   4 -> 0.803\n",
      "   5 -> 0.806\n",
      "   6 -> 0.811\n",
      "   7 -> 0.811\n",
      "   8 -> 0.816\n",
      "   9 -> 0.812\n",
      "  10 -> 0.808\n",
      "  15 -> 0.763\n",
      "  20 -> 0.683\n",
      "None -> 0.574\n"
     ]
    }
   ],
   "source": [
    "# Training models with different values of max_depth\n",
    "depths = [1, 2, 3, 4, 5, 6, 7, 8, 9, 10, 15, 20, None]\n",
    "\n",
    "for depth in depths: \n",
    "    dt = DecisionTreeClassifier(max_depth=depth)\n",
    "    dt.fit(X_train, y_train)\n",
    "    \n",
    "    y_pred = dt.predict_proba(X_val)[:, 1]\n",
    "    auc = roc_auc_score(y_val, y_pred)\n",
    "    \n",
    "    print('%4s -> %.3f' % (depth, auc))"
   ]
  },
  {
   "cell_type": "code",
   "execution_count": 33,
   "id": "9f727d1a-029e-49f8-81c8-df3de8c64267",
   "metadata": {
    "tags": []
   },
   "outputs": [],
   "source": [
    "# Training models with different values of min_samples_leaf\n",
    "scores = []\n",
    "\n",
    "for depth in [6, 7, 8, 9]:\n",
    "    for s in [1, 5, 10, 15, 20, 50, 100, 200, 500]:\n",
    "        dt = DecisionTreeClassifier(max_depth=depth, min_samples_leaf=s)\n",
    "        dt.fit(X_train, y_train)\n",
    "\n",
    "        y_pred = dt.predict_proba(X_val)[:, 1]\n",
    "        auc = roc_auc_score(y_val, y_pred)\n",
    "        \n",
    "        scores.append((depth, s, auc))"
   ]
  },
  {
   "cell_type": "code",
   "execution_count": 34,
   "id": "e7daabd0-1202-4ba4-9827-eb60c341126d",
   "metadata": {
    "tags": []
   },
   "outputs": [],
   "source": [
    "columns = ['max_depth', 'min_samples_leaf', 'auc']\n",
    "df_scores = pd.DataFrame(scores, columns=columns)"
   ]
  },
  {
   "cell_type": "code",
   "execution_count": 35,
   "id": "a8db0617-5275-450b-a7ff-68be6f239971",
   "metadata": {
    "tags": []
   },
   "outputs": [
    {
     "data": {
      "text/html": [
       "<div>\n",
       "<style scoped>\n",
       "    .dataframe tbody tr th:only-of-type {\n",
       "        vertical-align: middle;\n",
       "    }\n",
       "\n",
       "    .dataframe tbody tr th {\n",
       "        vertical-align: top;\n",
       "    }\n",
       "\n",
       "    .dataframe thead tr th {\n",
       "        text-align: left;\n",
       "    }\n",
       "\n",
       "    .dataframe thead tr:last-of-type th {\n",
       "        text-align: right;\n",
       "    }\n",
       "</style>\n",
       "<table border=\"1\" class=\"dataframe\">\n",
       "  <thead>\n",
       "    <tr>\n",
       "      <th></th>\n",
       "      <th colspan=\"4\" halign=\"left\">auc</th>\n",
       "    </tr>\n",
       "    <tr>\n",
       "      <th>max_depth</th>\n",
       "      <th>6</th>\n",
       "      <th>7</th>\n",
       "      <th>8</th>\n",
       "      <th>9</th>\n",
       "    </tr>\n",
       "    <tr>\n",
       "      <th>min_samples_leaf</th>\n",
       "      <th></th>\n",
       "      <th></th>\n",
       "      <th></th>\n",
       "      <th></th>\n",
       "    </tr>\n",
       "  </thead>\n",
       "  <tbody>\n",
       "    <tr>\n",
       "      <th>1</th>\n",
       "      <td>0.811</td>\n",
       "      <td>0.812</td>\n",
       "      <td>0.816</td>\n",
       "      <td>0.812</td>\n",
       "    </tr>\n",
       "    <tr>\n",
       "      <th>5</th>\n",
       "      <td>0.817</td>\n",
       "      <td>0.813</td>\n",
       "      <td>0.804</td>\n",
       "      <td>0.806</td>\n",
       "    </tr>\n",
       "    <tr>\n",
       "      <th>10</th>\n",
       "      <td>0.812</td>\n",
       "      <td>0.806</td>\n",
       "      <td>0.802</td>\n",
       "      <td>0.802</td>\n",
       "    </tr>\n",
       "    <tr>\n",
       "      <th>15</th>\n",
       "      <td>0.812</td>\n",
       "      <td>0.809</td>\n",
       "      <td>0.808</td>\n",
       "      <td>0.810</td>\n",
       "    </tr>\n",
       "    <tr>\n",
       "      <th>20</th>\n",
       "      <td>0.816</td>\n",
       "      <td>0.811</td>\n",
       "      <td>0.808</td>\n",
       "      <td>0.804</td>\n",
       "    </tr>\n",
       "    <tr>\n",
       "      <th>50</th>\n",
       "      <td>0.817</td>\n",
       "      <td>0.814</td>\n",
       "      <td>0.810</td>\n",
       "      <td>0.809</td>\n",
       "    </tr>\n",
       "    <tr>\n",
       "      <th>100</th>\n",
       "      <td>0.817</td>\n",
       "      <td>0.820</td>\n",
       "      <td>0.818</td>\n",
       "      <td>0.816</td>\n",
       "    </tr>\n",
       "    <tr>\n",
       "      <th>200</th>\n",
       "      <td>0.819</td>\n",
       "      <td>0.820</td>\n",
       "      <td>0.815</td>\n",
       "      <td>0.815</td>\n",
       "    </tr>\n",
       "    <tr>\n",
       "      <th>500</th>\n",
       "      <td>0.815</td>\n",
       "      <td>0.817</td>\n",
       "      <td>0.818</td>\n",
       "      <td>0.817</td>\n",
       "    </tr>\n",
       "  </tbody>\n",
       "</table>\n",
       "</div>"
      ],
      "text/plain": [
       "                    auc                     \n",
       "max_depth             6      7      8      9\n",
       "min_samples_leaf                            \n",
       "1                 0.811  0.812  0.816  0.812\n",
       "5                 0.817  0.813  0.804  0.806\n",
       "10                0.812  0.806  0.802  0.802\n",
       "15                0.812  0.809  0.808  0.810\n",
       "20                0.816  0.811  0.808  0.804\n",
       "50                0.817  0.814  0.810  0.809\n",
       "100               0.817  0.820  0.818  0.816\n",
       "200               0.819  0.820  0.815  0.815\n",
       "500               0.815  0.817  0.818  0.817"
      ]
     },
     "execution_count": 35,
     "metadata": {},
     "output_type": "execute_result"
    }
   ],
   "source": [
    "df_scores_pivot = df_scores.pivot(index='min_samples_leaf', columns=['max_depth'], values=['auc'])\n",
    "df_scores_pivot.round(3)"
   ]
  },
  {
   "cell_type": "code",
   "execution_count": 36,
   "id": "919fbd93-d0d8-4e2c-818b-13eab55a7990",
   "metadata": {
    "tags": []
   },
   "outputs": [
    {
     "data": {
      "text/plain": [
       "<Axes: xlabel='None-max_depth', ylabel='min_samples_leaf'>"
      ]
     },
     "execution_count": 36,
     "metadata": {},
     "output_type": "execute_result"
    },
    {
     "data": {
      "image/png": "[encoded data removed]",
      "text/plain": [
       "<Figure size 640x480 with 2 Axes>"
      ]
     },
     "metadata": {},
     "output_type": "display_data"
    }
   ],
   "source": [
    "sns.heatmap(df_scores_pivot, annot=True, fmt=\".3f\")"
   ]
  },
  {
   "cell_type": "code",
   "execution_count": 37,
   "id": "272090e3-11e7-45c9-9471-699e0abc4cf4",
   "metadata": {},
   "outputs": [
    {
     "data": {
      "text/html": [
       "<style>#sk-container-id-2 {color: black;}#sk-container-id-2 pre{padding: 0;}#sk-container-id-2 div.sk-toggleable {background-color: white;}#sk-container-id-2 label.sk-toggleable__label {cursor: pointer;display: block;width: 100%;margin-bottom: 0;padding: 0.3em;box-sizing: border-box;text-align: center;}#sk-container-id-2 label.sk-toggleable__label-arrow:before {content: \"▸\";float: left;margin-right: 0.25em;color: #696969;}#sk-container-id-2 label.sk-toggleable__label-arrow:hover:before {color: black;}#sk-container-id-2 div.sk-estimator:hover label.sk-toggleable__label-arrow:before {color: black;}#sk-container-id-2 div.sk-toggleable__content {max-height: 0;max-width: 0;overflow: hidden;text-align: left;background-color: #f0f8ff;}#sk-container-id-2 div.sk-toggleable__content pre {margin: 0.2em;color: black;border-radius: 0.25em;background-color: #f0f8ff;}#sk-container-id-2 input.sk-toggleable__control:checked~div.sk-toggleable__content {max-height: 200px;max-width: 100%;overflow: auto;}#sk-container-id-2 input.sk-toggleable__control:checked~label.sk-toggleable__label-arrow:before {content: \"▾\";}#sk-container-id-2 div.sk-estimator input.sk-toggleable__control:checked~label.sk-toggleable__label {background-color: #d4ebff;}#sk-container-id-2 div.sk-label input.sk-toggleable__control:checked~label.sk-toggleable__label {background-color: #d4ebff;}#sk-container-id-2 input.sk-hidden--visually {border: 0;clip: rect(1px 1px 1px 1px);clip: rect(1px, 1px, 1px, 1px);height: 1px;margin: -1px;overflow: hidden;padding: 0;position: absolute;width: 1px;}#sk-container-id-2 div.sk-estimator {font-family: monospace;background-color: #f0f8ff;border: 1px dotted black;border-radius: 0.25em;box-sizing: border-box;margin-bottom: 0.5em;}#sk-container-id-2 div.sk-estimator:hover {background-color: #d4ebff;}#sk-container-id-2 div.sk-parallel-item::after {content: \"\";width: 100%;border-bottom: 1px solid gray;flex-grow: 1;}#sk-container-id-2 div.sk-label:hover label.sk-toggleable__label {background-color: #d4ebff;}#sk-container-id-2 div.sk-serial::before {content: \"\";position: absolute;border-left: 1px solid gray;box-sizing: border-box;top: 0;bottom: 0;left: 50%;z-index: 0;}#sk-container-id-2 div.sk-serial {display: flex;flex-direction: column;align-items: center;background-color: white;padding-right: 0.2em;padding-left: 0.2em;position: relative;}#sk-container-id-2 div.sk-item {position: relative;z-index: 1;}#sk-container-id-2 div.sk-parallel {display: flex;align-items: stretch;justify-content: center;background-color: white;position: relative;}#sk-container-id-2 div.sk-item::before, #sk-container-id-2 div.sk-parallel-item::before {content: \"\";position: absolute;border-left: 1px solid gray;box-sizing: border-box;top: 0;bottom: 0;left: 50%;z-index: -1;}#sk-container-id-2 div.sk-parallel-item {display: flex;flex-direction: column;z-index: 1;position: relative;background-color: white;}#sk-container-id-2 div.sk-parallel-item:first-child::after {align-self: flex-end;width: 50%;}#sk-container-id-2 div.sk-parallel-item:last-child::after {align-self: flex-start;width: 50%;}#sk-container-id-2 div.sk-parallel-item:only-child::after {width: 0;}#sk-container-id-2 div.sk-dashed-wrapped {border: 1px dashed gray;margin: 0 0.4em 0.5em 0.4em;box-sizing: border-box;padding-bottom: 0.4em;background-color: white;}#sk-container-id-2 div.sk-label label {font-family: monospace;font-weight: bold;display: inline-block;line-height: 1.2em;}#sk-container-id-2 div.sk-label-container {text-align: center;}#sk-container-id-2 div.sk-container {/* jupyter's `normalize.less` sets `[hidden] { display: none; }` but bootstrap.min.css set `[hidden] { display: none !important; }` so we also need the `!important` here to be able to override the default hidden behavior on the sphinx rendered scikit-learn.org. See: https://github.com/scikit-learn/scikit-learn/issues/21755 */display: inline-block !important;position: relative;}#sk-container-id-2 div.sk-text-repr-fallback {display: none;}</style><div id=\"sk-container-id-2\" class=\"sk-top-container\"><div class=\"sk-text-repr-fallback\"><pre>DecisionTreeClassifier(max_depth=7, min_samples_leaf=200)</pre><b>In a Jupyter environment, please rerun this cell to show the HTML representation or trust the notebook. <br />On GitHub, the HTML representation is unable to render, please try loading this page with nbviewer.org.</b></div><div class=\"sk-container\" hidden><div class=\"sk-item\"><div class=\"sk-estimator sk-toggleable\"><input class=\"sk-toggleable__control sk-hidden--visually\" id=\"sk-estimator-id-2\" type=\"checkbox\" checked><label for=\"sk-estimator-id-2\" class=\"sk-toggleable__label sk-toggleable__label-arrow\">DecisionTreeClassifier</label><div class=\"sk-toggleable__content\"><pre>DecisionTreeClassifier(max_depth=7, min_samples_leaf=200)</pre></div></div></div></div></div>"
      ],
      "text/plain": [
       "DecisionTreeClassifier(max_depth=7, min_samples_leaf=200)"
      ]
     },
     "execution_count": 37,
     "metadata": {},
     "output_type": "execute_result"
    }
   ],
   "source": [
    "# Training final decision tree model\n",
    "dt = DecisionTreeClassifier(max_depth=7, min_samples_leaf=200)\n",
    "dt.fit(X_train, y_train)"
   ]
  },
  {
   "cell_type": "code",
   "execution_count": 38,
   "id": "c6750bd1-2db9-4878-af67-163dc28d1d43",
   "metadata": {
    "tags": []
   },
   "outputs": [
    {
     "data": {
      "text/plain": [
       "0.8437048122432725"
      ]
     },
     "execution_count": 38,
     "metadata": {},
     "output_type": "execute_result"
    }
   ],
   "source": [
    "# Evaluate AUC on the training dataset\n",
    "y_pred = dt.predict_proba(X_train)[:, 1]\n",
    "roc_auc_score(y_train, y_pred)"
   ]
  },
  {
   "cell_type": "code",
   "execution_count": 39,
   "id": "9da824ba-480d-4f6a-acae-fcad384cac36",
   "metadata": {},
   "outputs": [
    {
     "name": "stdout",
     "output_type": "stream",
     "text": [
      "|--- saldo_var30 <= 2.45\n",
      "|   |--- var15 <= 27.50\n",
      "|   |   |--- var38 <= 57022.04\n",
      "|   |   |   |--- var15 <= 23.50\n",
      "|   |   |   |   |--- var38 <= 37418.27\n",
      "|   |   |   |   |   |--- class: 0\n",
      "|   |   |   |   |--- var38 >  37418.27\n",
      "|   |   |   |   |   |--- var38 <= 46096.10\n",
      "|   |   |   |   |   |   |--- class: 0\n",
      "|   |   |   |   |   |--- var38 >  46096.10\n",
      "|   |   |   |   |   |   |--- class: 0\n",
      "|   |   |   |--- var15 >  23.50\n",
      "|   |   |   |   |--- class: 0\n",
      "|   |   |--- var38 >  57022.04\n",
      "|   |   |   |--- var15 <= 25.50\n",
      "|   |   |   |   |--- num_var45_hace3 <= 1.50\n",
      "|   |   |   |   |   |--- var38 <= 124683.15\n",
      "|   |   |   |   |   |   |--- var38 <= 117271.36\n",
      "|   |   |   |   |   |   |   |--- class: 0\n",
      "|   |   |   |   |   |   |--- var38 >  117271.36\n",
      "|   |   |   |   |   |   |   |--- class: 0\n",
      "|   |   |   |   |   |--- var38 >  124683.15\n",
      "|   |   |   |   |   |   |--- var38 <= 247136.88\n",
      "|   |   |   |   |   |   |   |--- class: 0\n",
      "|   |   |   |   |   |   |--- var38 >  247136.88\n",
      "|   |   |   |   |   |   |   |--- class: 0\n",
      "|   |   |   |   |--- num_var45_hace3 >  1.50\n",
      "|   |   |   |   |   |--- num_meses_var5_ult3 <= 0.50\n",
      "|   |   |   |   |   |   |--- num_var45_ult3 <= 4.50\n",
      "|   |   |   |   |   |   |   |--- class: 0\n",
      "|   |   |   |   |   |   |--- num_var45_ult3 >  4.50\n",
      "|   |   |   |   |   |   |   |--- class: 0\n",
      "|   |   |   |   |   |--- num_meses_var5_ult3 >  0.50\n",
      "|   |   |   |   |   |   |--- class: 0\n",
      "|   |   |   |--- var15 >  25.50\n",
      "|   |   |   |   |--- var38 <= 132286.65\n",
      "|   |   |   |   |   |--- var15 <= 26.50\n",
      "|   |   |   |   |   |   |--- class: 0\n",
      "|   |   |   |   |   |--- var15 >  26.50\n",
      "|   |   |   |   |   |   |--- class: 0\n",
      "|   |   |   |   |--- var38 >  132286.65\n",
      "|   |   |   |   |   |--- var38 <= 186905.67\n",
      "|   |   |   |   |   |   |--- class: 0\n",
      "|   |   |   |   |   |--- var38 >  186905.67\n",
      "|   |   |   |   |   |   |--- class: 0\n",
      "|   |--- var15 >  27.50\n",
      "|   |   |--- var38 <= 117563.09\n",
      "|   |   |   |--- saldo_medio_var5_hace3 <= 3.50\n",
      "|   |   |   |   |--- var38 <= 73709.49\n",
      "|   |   |   |   |   |--- var38 <= 30594.30\n",
      "|   |   |   |   |   |   |--- class: 0\n",
      "|   |   |   |   |   |--- var38 >  30594.30\n",
      "|   |   |   |   |   |   |--- var15 <= 32.50\n",
      "|   |   |   |   |   |   |   |--- class: 0\n",
      "|   |   |   |   |   |   |--- var15 >  32.50\n",
      "|   |   |   |   |   |   |   |--- class: 0\n",
      "|   |   |   |   |--- var38 >  73709.49\n",
      "|   |   |   |   |   |--- var15 <= 29.50\n",
      "|   |   |   |   |   |   |--- class: 0\n",
      "|   |   |   |   |   |--- var15 >  29.50\n",
      "|   |   |   |   |   |   |--- ind_var41_0 <= 0.50\n",
      "|   |   |   |   |   |   |   |--- class: 0\n",
      "|   |   |   |   |   |   |--- ind_var41_0 >  0.50\n",
      "|   |   |   |   |   |   |   |--- class: 0\n",
      "|   |   |   |--- saldo_medio_var5_hace3 >  3.50\n",
      "|   |   |   |   |--- saldo_medio_var5_ult1 <= 1.72\n",
      "|   |   |   |   |   |--- class: 0\n",
      "|   |   |   |   |--- saldo_medio_var5_ult1 >  1.72\n",
      "|   |   |   |   |   |--- class: 0\n",
      "|   |   |--- var38 >  117563.09\n",
      "|   |   |   |--- var15 <= 30.50\n",
      "|   |   |   |   |--- class: 0\n",
      "|   |   |   |--- var15 >  30.50\n",
      "|   |   |   |   |--- var38 <= 224660.88\n",
      "|   |   |   |   |   |--- var15 <= 48.50\n",
      "|   |   |   |   |   |   |--- var15 <= 40.50\n",
      "|   |   |   |   |   |   |   |--- class: 0\n",
      "|   |   |   |   |   |   |--- var15 >  40.50\n",
      "|   |   |   |   |   |   |   |--- class: 0\n",
      "|   |   |   |   |   |--- var15 >  48.50\n",
      "|   |   |   |   |   |   |--- class: 0\n",
      "|   |   |   |   |--- var38 >  224660.88\n",
      "|   |   |   |   |   |--- class: 0\n",
      "|--- saldo_var30 >  2.45\n",
      "|   |--- var15 <= 26.50\n",
      "|   |   |--- var15 <= 23.50\n",
      "|   |   |   |--- num_med_var45_ult3 <= 13.50\n",
      "|   |   |   |   |--- num_var45_hace3 <= 7.50\n",
      "|   |   |   |   |   |--- saldo_medio_var5_hace3 <= 0.82\n",
      "|   |   |   |   |   |   |--- var38 <= 45708.30\n",
      "|   |   |   |   |   |   |   |--- class: 0\n",
      "|   |   |   |   |   |   |--- var38 >  45708.30\n",
      "|   |   |   |   |   |   |   |--- class: 0\n",
      "|   |   |   |   |   |--- saldo_medio_var5_hace3 >  0.82\n",
      "|   |   |   |   |   |   |--- saldo_medio_var5_hace3 <= 2.05\n",
      "|   |   |   |   |   |   |   |--- class: 0\n",
      "|   |   |   |   |   |   |--- saldo_medio_var5_hace3 >  2.05\n",
      "|   |   |   |   |   |   |   |--- class: 0\n",
      "|   |   |   |   |--- num_var45_hace3 >  7.50\n",
      "|   |   |   |   |   |--- class: 0\n",
      "|   |   |   |--- num_med_var45_ult3 >  13.50\n",
      "|   |   |   |   |--- class: 0\n",
      "|   |   |--- var15 >  23.50\n",
      "|   |   |   |--- num_var22_ult3 <= 10.50\n",
      "|   |   |   |   |--- saldo_medio_var5_hace2 <= 3.52\n",
      "|   |   |   |   |   |--- var15 <= 25.50\n",
      "|   |   |   |   |   |   |--- var38 <= 145273.05\n",
      "|   |   |   |   |   |   |   |--- class: 0\n",
      "|   |   |   |   |   |   |--- var38 >  145273.05\n",
      "|   |   |   |   |   |   |   |--- class: 0\n",
      "|   |   |   |   |   |--- var15 >  25.50\n",
      "|   |   |   |   |   |   |--- var38 <= 97875.81\n",
      "|   |   |   |   |   |   |   |--- class: 0\n",
      "|   |   |   |   |   |   |--- var38 >  97875.81\n",
      "|   |   |   |   |   |   |   |--- class: 0\n",
      "|   |   |   |   |--- saldo_medio_var5_hace2 >  3.52\n",
      "|   |   |   |   |   |--- num_var45_ult1 <= 1.50\n",
      "|   |   |   |   |   |   |--- saldo_medio_var5_hace3 <= 49.18\n",
      "|   |   |   |   |   |   |   |--- class: 0\n",
      "|   |   |   |   |   |   |--- saldo_medio_var5_hace3 >  49.18\n",
      "|   |   |   |   |   |   |   |--- class: 0\n",
      "|   |   |   |   |   |--- num_var45_ult1 >  1.50\n",
      "|   |   |   |   |   |   |--- class: 0\n",
      "|   |   |   |--- num_var22_ult3 >  10.50\n",
      "|   |   |   |   |--- class: 0\n",
      "|   |--- var15 >  26.50\n",
      "|   |   |--- saldo_var30 <= 396.88\n",
      "|   |   |   |--- saldo_medio_var8_ult1 <= 3.80\n",
      "|   |   |   |   |--- var15 <= 36.50\n",
      "|   |   |   |   |   |--- saldo_medio_var5_hace3 <= 7.25\n",
      "|   |   |   |   |   |   |--- num_var22_ult3 <= 1.50\n",
      "|   |   |   |   |   |   |   |--- class: 0\n",
      "|   |   |   |   |   |   |--- num_var22_ult3 >  1.50\n",
      "|   |   |   |   |   |   |   |--- class: 0\n",
      "|   |   |   |   |   |--- saldo_medio_var5_hace3 >  7.25\n",
      "|   |   |   |   |   |   |--- imp_op_var41_ult1 <= 385.71\n",
      "|   |   |   |   |   |   |   |--- class: 0\n",
      "|   |   |   |   |   |   |--- imp_op_var41_ult1 >  385.71\n",
      "|   |   |   |   |   |   |   |--- class: 0\n",
      "|   |   |   |   |--- var15 >  36.50\n",
      "|   |   |   |   |   |--- saldo_medio_var5_ult1 <= 43.33\n",
      "|   |   |   |   |   |   |--- num_op_var41_ult3 <= 1.50\n",
      "|   |   |   |   |   |   |   |--- class: 0\n",
      "|   |   |   |   |   |   |--- num_op_var41_ult3 >  1.50\n",
      "|   |   |   |   |   |   |   |--- class: 0\n",
      "|   |   |   |   |   |--- saldo_medio_var5_ult1 >  43.33\n",
      "|   |   |   |   |   |   |--- imp_op_var39_ult1 <= 1024.50\n",
      "|   |   |   |   |   |   |   |--- class: 0\n",
      "|   |   |   |   |   |   |--- imp_op_var39_ult1 >  1024.50\n",
      "|   |   |   |   |   |   |   |--- class: 0\n",
      "|   |   |   |--- saldo_medio_var8_ult1 >  3.80\n",
      "|   |   |   |   |--- class: 0\n",
      "|   |   |--- saldo_var30 >  396.88\n",
      "|   |   |   |--- imp_op_var41_ult1 <= 3082.14\n",
      "|   |   |   |   |--- saldo_var30 <= 3112.82\n",
      "|   |   |   |   |   |--- num_var45_ult1 <= 40.50\n",
      "|   |   |   |   |   |   |--- num_op_var41_efect_ult3 <= 13.50\n",
      "|   |   |   |   |   |   |   |--- class: 0\n",
      "|   |   |   |   |   |   |--- num_op_var41_efect_ult3 >  13.50\n",
      "|   |   |   |   |   |   |   |--- class: 0\n",
      "|   |   |   |   |   |--- num_var45_ult1 >  40.50\n",
      "|   |   |   |   |   |   |--- class: 0\n",
      "|   |   |   |   |--- saldo_var30 >  3112.82\n",
      "|   |   |   |   |   |--- num_var22_ult1 <= 4.50\n",
      "|   |   |   |   |   |   |--- saldo_var8 <= 5630.56\n",
      "|   |   |   |   |   |   |   |--- class: 0\n",
      "|   |   |   |   |   |   |--- saldo_var8 >  5630.56\n",
      "|   |   |   |   |   |   |   |--- class: 0\n",
      "|   |   |   |   |   |--- num_var22_ult1 >  4.50\n",
      "|   |   |   |   |   |   |--- var38 <= 122386.66\n",
      "|   |   |   |   |   |   |   |--- class: 0\n",
      "|   |   |   |   |   |   |--- var38 >  122386.66\n",
      "|   |   |   |   |   |   |   |--- class: 0\n",
      "|   |   |   |--- imp_op_var41_ult1 >  3082.14\n",
      "|   |   |   |   |--- class: 0\n",
      "\n"
     ]
    }
   ],
   "source": [
    "print(export_text(dt, feature_names=list(dv.get_feature_names_out())))"
   ]
  },
  {
   "cell_type": "markdown",
   "id": "c7e94761-9acf-4297-a9a9-6d816411050f",
   "metadata": {
    "tags": []
   },
   "source": [
    "## Random forest classification using Scikit-Learn "
   ]
  },
  {
   "cell_type": "code",
   "execution_count": 40,
   "id": "8ed8bcbc-3c9f-4d60-a035-352840d5f156",
   "metadata": {
    "tags": []
   },
   "outputs": [],
   "source": [
    "from sklearn.ensemble import RandomForestClassifier"
   ]
  },
  {
   "cell_type": "code",
   "execution_count": 41,
   "id": "63b192f0-ab35-43b9-a6e6-2c82e1011ee3",
   "metadata": {
    "tags": []
   },
   "outputs": [],
   "source": [
    "# Training models with different values of n_estimators\n",
    "scores = []\n",
    "\n",
    "for n in range(10, 201, 10):\n",
    "    # n_estimators = number of models or trees\n",
    "    rf = RandomForestClassifier(n_estimators=n, random_state=1)\n",
    "    rf.fit(X_train, y_train)\n",
    " \n",
    "    y_pred = rf.predict_proba(X_val)[:, 1]\n",
    "    auc = roc_auc_score(y_val, y_pred)\n",
    "    \n",
    "    scores.append((n, auc))"
   ]
  },
  {
   "cell_type": "code",
   "execution_count": 42,
   "id": "095002e3-543c-4f1d-8898-bd7ea171d37f",
   "metadata": {
    "tags": []
   },
   "outputs": [],
   "source": [
    "df_scores = pd.DataFrame(scores, columns=['n_estimators', 'auc'])"
   ]
  },
  {
   "cell_type": "code",
   "execution_count": 43,
   "id": "16107cb4-9f65-4777-93c4-2f64d756d03a",
   "metadata": {
    "tags": []
   },
   "outputs": [
    {
     "data": {
      "text/plain": [
       "Text(0, 0.5, 'AUC score')"
      ]
     },
     "execution_count": 43,
     "metadata": {},
     "output_type": "execute_result"
    },
    {
     "data": {
      "image/png": "[encoded data removed]",
      "text/plain": [
       "<Figure size 640x480 with 1 Axes>"
      ]
     },
     "metadata": {},
     "output_type": "display_data"
    }
   ],
   "source": [
    "plt.plot(df_scores.n_estimators, df_scores.auc)\n",
    "plt.xlabel(\"number of estimators\")\n",
    "plt.ylabel(\"AUC score\")"
   ]
  },
  {
   "cell_type": "markdown",
   "id": "0a6ab77a-deea-456c-992d-3351a9124ffe",
   "metadata": {},
   "source": [
    "Best AUC score at ~200 trees."
   ]
  },
  {
   "cell_type": "code",
   "execution_count": 44,
   "id": "d64d981c-6581-4ddd-84e7-c56332a90cf5",
   "metadata": {
    "tags": []
   },
   "outputs": [],
   "source": [
    "# Training models with different values of max_depth\n",
    "scores = []\n",
    "\n",
    "for d in [5, 10, 15]:\n",
    "    for n in range(10, 201, 10):\n",
    "        rf = RandomForestClassifier(n_estimators=n,\n",
    "                                    max_depth=d,\n",
    "                                    random_state=1)\n",
    "        rf.fit(X_train, y_train)\n",
    "\n",
    "        y_pred = rf.predict_proba(X_val)[:, 1]\n",
    "        auc = roc_auc_score(y_val, y_pred)\n",
    "\n",
    "        scores.append((d, n, auc))"
   ]
  },
  {
   "cell_type": "code",
   "execution_count": 45,
   "id": "8ae5fef7-e85d-4fd6-8014-d29a7c7d3abd",
   "metadata": {
    "tags": []
   },
   "outputs": [
    {
     "data": {
      "text/html": [
       "<div>\n",
       "<style scoped>\n",
       "    .dataframe tbody tr th:only-of-type {\n",
       "        vertical-align: middle;\n",
       "    }\n",
       "\n",
       "    .dataframe tbody tr th {\n",
       "        vertical-align: top;\n",
       "    }\n",
       "\n",
       "    .dataframe thead th {\n",
       "        text-align: right;\n",
       "    }\n",
       "</style>\n",
       "<table border=\"1\" class=\"dataframe\">\n",
       "  <thead>\n",
       "    <tr style=\"text-align: right;\">\n",
       "      <th></th>\n",
       "      <th>max_depth</th>\n",
       "      <th>n_estimators</th>\n",
       "      <th>auc</th>\n",
       "    </tr>\n",
       "  </thead>\n",
       "  <tbody>\n",
       "    <tr>\n",
       "      <th>0</th>\n",
       "      <td>5</td>\n",
       "      <td>10</td>\n",
       "      <td>0.789369</td>\n",
       "    </tr>\n",
       "    <tr>\n",
       "      <th>1</th>\n",
       "      <td>5</td>\n",
       "      <td>20</td>\n",
       "      <td>0.794948</td>\n",
       "    </tr>\n",
       "    <tr>\n",
       "      <th>2</th>\n",
       "      <td>5</td>\n",
       "      <td>30</td>\n",
       "      <td>0.794285</td>\n",
       "    </tr>\n",
       "    <tr>\n",
       "      <th>3</th>\n",
       "      <td>5</td>\n",
       "      <td>40</td>\n",
       "      <td>0.794385</td>\n",
       "    </tr>\n",
       "    <tr>\n",
       "      <th>4</th>\n",
       "      <td>5</td>\n",
       "      <td>50</td>\n",
       "      <td>0.797426</td>\n",
       "    </tr>\n",
       "  </tbody>\n",
       "</table>\n",
       "</div>"
      ],
      "text/plain": [
       "   max_depth  n_estimators       auc\n",
       "0          5            10  0.789369\n",
       "1          5            20  0.794948\n",
       "2          5            30  0.794285\n",
       "3          5            40  0.794385\n",
       "4          5            50  0.797426"
      ]
     },
     "execution_count": 45,
     "metadata": {},
     "output_type": "execute_result"
    }
   ],
   "source": [
    "columns = ['max_depth', 'n_estimators', 'auc']\n",
    "df_scores = pd.DataFrame(scores, columns=columns)\n",
    "df_scores.head()"
   ]
  },
  {
   "cell_type": "code",
   "execution_count": 46,
   "id": "04a97181-3604-4ff0-8aca-f12aac1f4ebb",
   "metadata": {
    "tags": []
   },
   "outputs": [
    {
     "data": {
      "text/plain": [
       "<matplotlib.legend.Legend at 0x21353adf5e0>"
      ]
     },
     "execution_count": 46,
     "metadata": {},
     "output_type": "execute_result"
    },
    {
     "data": {
      "image/png": "[encoded data removed]",
      "text/plain": [
       "<Figure size 640x480 with 1 Axes>"
      ]
     },
     "metadata": {},
     "output_type": "display_data"
    }
   ],
   "source": [
    "for d in [5, 10, 15]:\n",
    "    df_subset = df_scores[df_scores.max_depth == d]\n",
    "    \n",
    "    plt.plot(df_subset.n_estimators, df_subset.auc,\n",
    "             label='max_depth=%d' % d)\n",
    "    plt.xlabel(\"number of estimators\")\n",
    "    plt.ylabel(\"AUC score\")\n",
    "\n",
    "plt.legend()"
   ]
  },
  {
   "cell_type": "markdown",
   "id": "5c77e44c-8907-4860-a4c0-f48f915c7e6a",
   "metadata": {},
   "source": [
    "Best AUC score at max_depth=15"
   ]
  },
  {
   "cell_type": "code",
   "execution_count": 47,
   "id": "c68c9d08-2773-4569-b550-8e87d4417a19",
   "metadata": {
    "tags": []
   },
   "outputs": [],
   "source": [
    "max_depth = 15"
   ]
  },
  {
   "cell_type": "code",
   "execution_count": 48,
   "id": "91f71c6e-d39b-451e-9038-36210fe8ede3",
   "metadata": {
    "tags": []
   },
   "outputs": [],
   "source": [
    "# Training models with different values of min_samples_leaf\n",
    "scores = []\n",
    "\n",
    "for s in [1, 3, 5, 10, 50]:\n",
    "    for n in range(10, 201, 10):\n",
    "        rf = RandomForestClassifier(n_estimators=n,\n",
    "                                    max_depth=max_depth,\n",
    "                                    min_samples_leaf=s,\n",
    "                                    random_state=1)\n",
    "        rf.fit(X_train, y_train)\n",
    "\n",
    "        y_pred = rf.predict_proba(X_val)[:, 1]\n",
    "        auc = roc_auc_score(y_val, y_pred)\n",
    "\n",
    "        scores.append((s, n, auc))"
   ]
  },
  {
   "cell_type": "code",
   "execution_count": 49,
   "id": "b9d7248b-ea58-4942-b756-31a23ff478da",
   "metadata": {
    "tags": []
   },
   "outputs": [],
   "source": [
    "columns = ['min_samples_leaf', 'n_estimators', 'auc']\n",
    "df_scores = pd.DataFrame(scores, columns=columns)"
   ]
  },
  {
   "cell_type": "code",
   "execution_count": 50,
   "id": "50576a5d-906b-4d46-a38c-8da22ab5b4df",
   "metadata": {
    "tags": []
   },
   "outputs": [
    {
     "data": {
      "text/plain": [
       "<matplotlib.legend.Legend at 0x2130413e100>"
      ]
     },
     "execution_count": 50,
     "metadata": {},
     "output_type": "execute_result"
    },
    {
     "data": {
      "image/png": "[encoded data removed]",
      "text/plain": [
       "<Figure size 640x480 with 1 Axes>"
      ]
     },
     "metadata": {},
     "output_type": "display_data"
    }
   ],
   "source": [
    "colors = ['black', 'blue', 'orange', 'red', 'grey']\n",
    "values = [1, 3, 5, 10, 50]\n",
    "\n",
    "for s, col in zip(values, colors):\n",
    "    df_subset = df_scores[df_scores.min_samples_leaf == s]\n",
    "    \n",
    "    plt.plot(df_subset.n_estimators, df_subset.auc,\n",
    "             color=col,\n",
    "             label='min_samples_leaf=%d' % s)\n",
    "    plt.xlabel(\"number of estimators\")\n",
    "    plt.ylabel(\"AUC score\")\n",
    "\n",
    "plt.legend()"
   ]
  },
  {
   "cell_type": "markdown",
   "id": "b70c83d7-88c3-4f1f-a76d-8669a6ff97cc",
   "metadata": {},
   "source": [
    "Best AUC score at min_samples_leaf=5"
   ]
  },
  {
   "cell_type": "code",
   "execution_count": 51,
   "id": "4f6b0a5f-c2f6-48e1-92e8-471da03aff66",
   "metadata": {
    "tags": []
   },
   "outputs": [],
   "source": [
    "min_samples_leaf = 5"
   ]
  },
  {
   "cell_type": "code",
   "execution_count": 52,
   "id": "8f397591-472a-4a34-916d-e41466503dff",
   "metadata": {
    "tags": []
   },
   "outputs": [
    {
     "data": {
      "text/html": [
       "<style>#sk-container-id-3 {color: black;}#sk-container-id-3 pre{padding: 0;}#sk-container-id-3 div.sk-toggleable {background-color: white;}#sk-container-id-3 label.sk-toggleable__label {cursor: pointer;display: block;width: 100%;margin-bottom: 0;padding: 0.3em;box-sizing: border-box;text-align: center;}#sk-container-id-3 label.sk-toggleable__label-arrow:before {content: \"▸\";float: left;margin-right: 0.25em;color: #696969;}#sk-container-id-3 label.sk-toggleable__label-arrow:hover:before {color: black;}#sk-container-id-3 div.sk-estimator:hover label.sk-toggleable__label-arrow:before {color: black;}#sk-container-id-3 div.sk-toggleable__content {max-height: 0;max-width: 0;overflow: hidden;text-align: left;background-color: #f0f8ff;}#sk-container-id-3 div.sk-toggleable__content pre {margin: 0.2em;color: black;border-radius: 0.25em;background-color: #f0f8ff;}#sk-container-id-3 input.sk-toggleable__control:checked~div.sk-toggleable__content {max-height: 200px;max-width: 100%;overflow: auto;}#sk-container-id-3 input.sk-toggleable__control:checked~label.sk-toggleable__label-arrow:before {content: \"▾\";}#sk-container-id-3 div.sk-estimator input.sk-toggleable__control:checked~label.sk-toggleable__label {background-color: #d4ebff;}#sk-container-id-3 div.sk-label input.sk-toggleable__control:checked~label.sk-toggleable__label {background-color: #d4ebff;}#sk-container-id-3 input.sk-hidden--visually {border: 0;clip: rect(1px 1px 1px 1px);clip: rect(1px, 1px, 1px, 1px);height: 1px;margin: -1px;overflow: hidden;padding: 0;position: absolute;width: 1px;}#sk-container-id-3 div.sk-estimator {font-family: monospace;background-color: #f0f8ff;border: 1px dotted black;border-radius: 0.25em;box-sizing: border-box;margin-bottom: 0.5em;}#sk-container-id-3 div.sk-estimator:hover {background-color: #d4ebff;}#sk-container-id-3 div.sk-parallel-item::after {content: \"\";width: 100%;border-bottom: 1px solid gray;flex-grow: 1;}#sk-container-id-3 div.sk-label:hover label.sk-toggleable__label {background-color: #d4ebff;}#sk-container-id-3 div.sk-serial::before {content: \"\";position: absolute;border-left: 1px solid gray;box-sizing: border-box;top: 0;bottom: 0;left: 50%;z-index: 0;}#sk-container-id-3 div.sk-serial {display: flex;flex-direction: column;align-items: center;background-color: white;padding-right: 0.2em;padding-left: 0.2em;position: relative;}#sk-container-id-3 div.sk-item {position: relative;z-index: 1;}#sk-container-id-3 div.sk-parallel {display: flex;align-items: stretch;justify-content: center;background-color: white;position: relative;}#sk-container-id-3 div.sk-item::before, #sk-container-id-3 div.sk-parallel-item::before {content: \"\";position: absolute;border-left: 1px solid gray;box-sizing: border-box;top: 0;bottom: 0;left: 50%;z-index: -1;}#sk-container-id-3 div.sk-parallel-item {display: flex;flex-direction: column;z-index: 1;position: relative;background-color: white;}#sk-container-id-3 div.sk-parallel-item:first-child::after {align-self: flex-end;width: 50%;}#sk-container-id-3 div.sk-parallel-item:last-child::after {align-self: flex-start;width: 50%;}#sk-container-id-3 div.sk-parallel-item:only-child::after {width: 0;}#sk-container-id-3 div.sk-dashed-wrapped {border: 1px dashed gray;margin: 0 0.4em 0.5em 0.4em;box-sizing: border-box;padding-bottom: 0.4em;background-color: white;}#sk-container-id-3 div.sk-label label {font-family: monospace;font-weight: bold;display: inline-block;line-height: 1.2em;}#sk-container-id-3 div.sk-label-container {text-align: center;}#sk-container-id-3 div.sk-container {/* jupyter's `normalize.less` sets `[hidden] { display: none; }` but bootstrap.min.css set `[hidden] { display: none !important; }` so we also need the `!important` here to be able to override the default hidden behavior on the sphinx rendered scikit-learn.org. See: https://github.com/scikit-learn/scikit-learn/issues/21755 */display: inline-block !important;position: relative;}#sk-container-id-3 div.sk-text-repr-fallback {display: none;}</style><div id=\"sk-container-id-3\" class=\"sk-top-container\"><div class=\"sk-text-repr-fallback\"><pre>RandomForestClassifier(max_depth=15, min_samples_leaf=5, n_estimators=200,\n",
       "                       random_state=1)</pre><b>In a Jupyter environment, please rerun this cell to show the HTML representation or trust the notebook. <br />On GitHub, the HTML representation is unable to render, please try loading this page with nbviewer.org.</b></div><div class=\"sk-container\" hidden><div class=\"sk-item\"><div class=\"sk-estimator sk-toggleable\"><input class=\"sk-toggleable__control sk-hidden--visually\" id=\"sk-estimator-id-3\" type=\"checkbox\" checked><label for=\"sk-estimator-id-3\" class=\"sk-toggleable__label sk-toggleable__label-arrow\">RandomForestClassifier</label><div class=\"sk-toggleable__content\"><pre>RandomForestClassifier(max_depth=15, min_samples_leaf=5, n_estimators=200,\n",
       "                       random_state=1)</pre></div></div></div></div></div>"
      ],
      "text/plain": [
       "RandomForestClassifier(max_depth=15, min_samples_leaf=5, n_estimators=200,\n",
       "                       random_state=1)"
      ]
     },
     "execution_count": 52,
     "metadata": {},
     "output_type": "execute_result"
    }
   ],
   "source": [
    "# Training final random forest model\n",
    "\n",
    "rf = RandomForestClassifier(n_estimators=200,\n",
    "                            max_depth=max_depth,\n",
    "                            min_samples_leaf=min_samples_leaf,\n",
    "                            random_state=1)\n",
    "\n",
    "rf.fit(X_train, y_train)"
   ]
  },
  {
   "cell_type": "code",
   "execution_count": 53,
   "id": "716104c5-9bc5-47c1-b845-391f73090c3d",
   "metadata": {
    "tags": []
   },
   "outputs": [
    {
     "data": {
      "text/plain": [
       "0.8203594837719265"
      ]
     },
     "execution_count": 53,
     "metadata": {},
     "output_type": "execute_result"
    }
   ],
   "source": [
    "# Validation\n",
    "y_pred = dt.predict_proba(X_val)[:, 1]\n",
    "roc_auc_score(y_val, y_pred)"
   ]
  },
  {
   "cell_type": "code",
   "execution_count": 54,
   "id": "4b4fb148-1fc7-4c0c-b517-c630cdd2aa47",
   "metadata": {
    "tags": []
   },
   "outputs": [
    {
     "data": {
      "text/plain": [
       "0.8437048122432725"
      ]
     },
     "execution_count": 54,
     "metadata": {},
     "output_type": "execute_result"
    }
   ],
   "source": [
    "# Evaluate AUC on the training dataset\n",
    "y_pred = dt.predict_proba(X_train)[:, 1]\n",
    "roc_auc_score(y_train, y_pred)"
   ]
  },
  {
   "cell_type": "markdown",
   "id": "dc30b23a-abe2-4063-97bc-3a9f4956bca5",
   "metadata": {},
   "source": [
    "## Classification using XGBoost"
   ]
  },
  {
   "cell_type": "code",
   "execution_count": 25,
   "id": "513bec20-485a-41ed-b3fb-90f453469d80",
   "metadata": {},
   "outputs": [],
   "source": [
    "import xgboost as xgb"
   ]
  },
  {
   "cell_type": "code",
   "execution_count": 26,
   "id": "0a3b36fe-67e7-4fde-87f8-b18a80f9839a",
   "metadata": {
    "tags": []
   },
   "outputs": [],
   "source": [
    "features = list(dv.get_feature_names_out())\n",
    "dtrain = xgb.DMatrix(X_train, label=y_train, feature_names=features)\n",
    "dval = xgb.DMatrix(X_val, label=y_val, feature_names=features)"
   ]
  },
  {
   "cell_type": "markdown",
   "id": "a3cf2c8d-90d7-4218-b5ad-4d04a049968a",
   "metadata": {},
   "source": [
    "### Training with default parameters"
   ]
  },
  {
   "cell_type": "code",
   "execution_count": 27,
   "id": "84f9fa45-93a1-45bd-b065-687eec89055b",
   "metadata": {
    "tags": []
   },
   "outputs": [],
   "source": [
    "xgb_params = {\n",
    "    'eta': 0.3, # learning rate\n",
    "    'max_depth': 6, # Maximum depth of a tree\n",
    "    'min_child_weight': 1, # similar to min_samples_leaf\n",
    "    \n",
    "    'objective': 'binary:logistic',\n",
    "    'nthread': 8, # Number of parallel threads used to run XGBoost\n",
    "    \n",
    "    'seed': 1,\n",
    "    'verbosity': 1, # Verbosity of printing messages\n",
    "}\n",
    "\n",
    "# num_boost_round => Number of boosting iterations.\n",
    "model = xgb.train(xgb_params, dtrain, num_boost_round=10)"
   ]
  },
  {
   "cell_type": "code",
   "execution_count": 28,
   "id": "78f53a11-3feb-4c68-a50d-afa918169122",
   "metadata": {
    "tags": []
   },
   "outputs": [],
   "source": [
    "y_pred = model.predict(dval)"
   ]
  },
  {
   "cell_type": "code",
   "execution_count": 29,
   "id": "3afe6d68-38aa-45fc-af09-94e078322eec",
   "metadata": {
    "tags": []
   },
   "outputs": [
    {
     "data": {
      "text/plain": [
       "0.8344979210969784"
      ]
     },
     "execution_count": 29,
     "metadata": {},
     "output_type": "execute_result"
    }
   ],
   "source": [
    "roc_auc_score(y_val, y_pred)"
   ]
  },
  {
   "cell_type": "code",
   "execution_count": 30,
   "id": "1d57285a-4daa-488d-b0c2-610cd9c39bd3",
   "metadata": {
    "tags": []
   },
   "outputs": [],
   "source": [
    "# evals => List of validation sets for which metrics will evaluated during training\n",
    "watchlist = [(dtrain, 'train'), (dval, 'val')]"
   ]
  },
  {
   "cell_type": "markdown",
   "id": "0dc3087d-9aec-4f70-806e-b4e52e57af5a",
   "metadata": {},
   "source": [
    "Add an evaluation metric at each boosting stage:"
   ]
  },
  {
   "cell_type": "code",
   "execution_count": 31,
   "id": "e93062e6-e334-4a34-8144-2ca5e40b3725",
   "metadata": {
    "tags": []
   },
   "outputs": [],
   "source": [
    "%%capture output \n",
    "# saves evaluation logs as 'output'\n",
    "\n",
    "xgb_params = {\n",
    "    'eta': 0.3, \n",
    "    'max_depth': 6,\n",
    "    'min_child_weight': 1,\n",
    "    \n",
    "    'objective': 'binary:logistic',\n",
    "    'eval_metric': 'auc',\n",
    "\n",
    "    'nthread': 8,\n",
    "    'seed': 1,\n",
    "    'verbosity': 1,\n",
    "}\n",
    "\n",
    "# Print evaluation scores every 'verbose_eval' boosting stages\n",
    "model = xgb.train(xgb_params, dtrain, num_boost_round=200,\n",
    "                  verbose_eval=5, evals=watchlist)"
   ]
  },
  {
   "cell_type": "code",
   "execution_count": 32,
   "id": "4875335e-51d7-49f4-8eef-e4c16048f5a6",
   "metadata": {
    "tags": []
   },
   "outputs": [],
   "source": [
    "s = output.stdout"
   ]
  },
  {
   "cell_type": "code",
   "execution_count": 33,
   "id": "7fd956de-255a-4d6e-ad4f-b7c6cfab14d8",
   "metadata": {
    "tags": []
   },
   "outputs": [],
   "source": [
    "# Extract scores from 'output'\n",
    "def parse_xgb_output(output):\n",
    "    results = []\n",
    "\n",
    "    for line in output.stdout.strip().split('\\n'):\n",
    "        it_line, train_line, val_line = line.split('\\t')\n",
    "\n",
    "        it = int(it_line.strip('[]'))\n",
    "        train = float(train_line.split(':')[1])\n",
    "        val = float(val_line.split(':')[1])\n",
    "\n",
    "        results.append((it, train, val))\n",
    "    \n",
    "    columns = ['num_iter', 'train_auc', 'val_auc']\n",
    "    df_results = pd.DataFrame(results, columns=columns)\n",
    "    return df_results"
   ]
  },
  {
   "cell_type": "code",
   "execution_count": 39,
   "id": "1cddcf2a-88cd-4076-8b71-8c26fa2e0d10",
   "metadata": {
    "tags": []
   },
   "outputs": [
    {
     "data": {
      "text/html": [
       "<div>\n",
       "<style scoped>\n",
       "    .dataframe tbody tr th:only-of-type {\n",
       "        vertical-align: middle;\n",
       "    }\n",
       "\n",
       "    .dataframe tbody tr th {\n",
       "        vertical-align: top;\n",
       "    }\n",
       "\n",
       "    .dataframe thead th {\n",
       "        text-align: right;\n",
       "    }\n",
       "</style>\n",
       "<table border=\"1\" class=\"dataframe\">\n",
       "  <thead>\n",
       "    <tr style=\"text-align: right;\">\n",
       "      <th></th>\n",
       "      <th>num_iter</th>\n",
       "      <th>train_auc</th>\n",
       "      <th>val_auc</th>\n",
       "    </tr>\n",
       "  </thead>\n",
       "  <tbody>\n",
       "    <tr>\n",
       "      <th>0</th>\n",
       "      <td>0</td>\n",
       "      <td>0.83647</td>\n",
       "      <td>0.81516</td>\n",
       "    </tr>\n",
       "    <tr>\n",
       "      <th>1</th>\n",
       "      <td>5</td>\n",
       "      <td>0.86188</td>\n",
       "      <td>0.83308</td>\n",
       "    </tr>\n",
       "    <tr>\n",
       "      <th>2</th>\n",
       "      <td>10</td>\n",
       "      <td>0.87687</td>\n",
       "      <td>0.83604</td>\n",
       "    </tr>\n",
       "    <tr>\n",
       "      <th>3</th>\n",
       "      <td>15</td>\n",
       "      <td>0.88383</td>\n",
       "      <td>0.83740</td>\n",
       "    </tr>\n",
       "    <tr>\n",
       "      <th>4</th>\n",
       "      <td>20</td>\n",
       "      <td>0.89046</td>\n",
       "      <td>0.83582</td>\n",
       "    </tr>\n",
       "    <tr>\n",
       "      <th>5</th>\n",
       "      <td>25</td>\n",
       "      <td>0.89401</td>\n",
       "      <td>0.83488</td>\n",
       "    </tr>\n",
       "    <tr>\n",
       "      <th>6</th>\n",
       "      <td>30</td>\n",
       "      <td>0.89875</td>\n",
       "      <td>0.83447</td>\n",
       "    </tr>\n",
       "    <tr>\n",
       "      <th>7</th>\n",
       "      <td>35</td>\n",
       "      <td>0.90171</td>\n",
       "      <td>0.83570</td>\n",
       "    </tr>\n",
       "    <tr>\n",
       "      <th>8</th>\n",
       "      <td>40</td>\n",
       "      <td>0.90676</td>\n",
       "      <td>0.83402</td>\n",
       "    </tr>\n",
       "    <tr>\n",
       "      <th>9</th>\n",
       "      <td>45</td>\n",
       "      <td>0.90954</td>\n",
       "      <td>0.83324</td>\n",
       "    </tr>\n",
       "  </tbody>\n",
       "</table>\n",
       "</div>"
      ],
      "text/plain": [
       "   num_iter  train_auc  val_auc\n",
       "0         0    0.83647  0.81516\n",
       "1         5    0.86188  0.83308\n",
       "2        10    0.87687  0.83604\n",
       "3        15    0.88383  0.83740\n",
       "4        20    0.89046  0.83582\n",
       "5        25    0.89401  0.83488\n",
       "6        30    0.89875  0.83447\n",
       "7        35    0.90171  0.83570\n",
       "8        40    0.90676  0.83402\n",
       "9        45    0.90954  0.83324"
      ]
     },
     "execution_count": 39,
     "metadata": {},
     "output_type": "execute_result"
    }
   ],
   "source": [
    "df_score = parse_xgb_output(output)\n",
    "df_score.head(10)"
   ]
  },
  {
   "cell_type": "code",
   "execution_count": 37,
   "id": "8f3ad775-c925-4f70-903c-4aa23db2048b",
   "metadata": {
    "tags": []
   },
   "outputs": [
    {
     "data": {
      "text/plain": [
       "<matplotlib.legend.Legend at 0x208a1a8c130>"
      ]
     },
     "execution_count": 37,
     "metadata": {},
     "output_type": "execute_result"
    },
    {
     "data": {
      "image/png": "[encoded data removed]",
      "text/plain": [
       "<Figure size 640x480 with 1 Axes>"
      ]
     },
     "metadata": {},
     "output_type": "display_data"
    }
   ],
   "source": [
    "# Plot evaluation scores\n",
    "plt.plot(df_score.num_iter, df_score.train_auc, label='train')\n",
    "plt.plot(df_score.num_iter, df_score.val_auc, label='val')\n",
    "plt.xlabel(\"boosting iterations\")\n",
    "plt.ylabel(\"AUC score\")\n",
    "plt.legend()"
   ]
  },
  {
   "cell_type": "code",
   "execution_count": 38,
   "id": "76c0f3c8-30f4-4575-829d-f0e5330a0754",
   "metadata": {
    "tags": []
   },
   "outputs": [
    {
     "data": {
      "text/plain": [
       "<matplotlib.legend.Legend at 0x2089cb5aa60>"
      ]
     },
     "execution_count": 38,
     "metadata": {},
     "output_type": "execute_result"
    },
    {
     "data": {
      "image/png": "[encoded data removed]",
      "text/plain": [
       "<Figure size 640x480 with 1 Axes>"
      ]
     },
     "metadata": {},
     "output_type": "display_data"
    }
   ],
   "source": [
    "plt.plot(df_score.num_iter, df_score.val_auc, label='val')\n",
    "plt.xlabel(\"boosting iterations\")\n",
    "plt.ylabel(\"AUC score\")\n",
    "plt.legend()"
   ]
  },
  {
   "cell_type": "markdown",
   "id": "3472a86f-7ca8-4ea5-bef7-bf36056e8282",
   "metadata": {},
   "source": [
    "### XGBoost parameter tuning"
   ]
  },
  {
   "cell_type": "markdown",
   "id": "ed7c88c7-2122-437a-9961-2026ee385302",
   "metadata": {},
   "source": [
    "#### eta (learning rate)"
   ]
  },
  {
   "cell_type": "code",
   "execution_count": 40,
   "id": "bd9a2aa2-463f-47fa-8c98-4052865055ee",
   "metadata": {
    "tags": []
   },
   "outputs": [],
   "source": [
    "scores = {}"
   ]
  },
  {
   "cell_type": "code",
   "execution_count": 41,
   "id": "54a05f65-ce85-48a7-b373-b69869ccf749",
   "metadata": {
    "tags": []
   },
   "outputs": [],
   "source": [
    "etas = [0.01, 0.05, 0.1]"
   ]
  },
  {
   "cell_type": "code",
   "execution_count": 42,
   "id": "ef22881c-7403-4a14-a057-374d3e71b29b",
   "metadata": {
    "tags": []
   },
   "outputs": [],
   "source": [
    "%%capture output\n",
    "\n",
    "for eta in etas:    \n",
    "    xgb_params = {\n",
    "        'eta': eta, \n",
    "        'max_depth': 6,\n",
    "        'min_child_weight': 1,\n",
    "\n",
    "        'objective': 'binary:logistic',\n",
    "        'eval_metric': 'auc',\n",
    "\n",
    "        'nthread': 8,\n",
    "        'seed': 1,\n",
    "        'verbosity': 1,\n",
    "    }\n",
    "\n",
    "    model = xgb.train(xgb_params, dtrain, num_boost_round=200,\n",
    "                      verbose_eval=5,\n",
    "                      evals=watchlist)"
   ]
  },
  {
   "cell_type": "code",
   "execution_count": 43,
   "id": "039257d9-960d-4ff5-afee-e77a62c2f893",
   "metadata": {
    "tags": []
   },
   "outputs": [],
   "source": [
    "parse_output = parse_xgb_output(output)\n",
    "rows_per_eta = len(parse_output) // len(etas)\n",
    "\n",
    "for i, eta in enumerate(etas): \n",
    "    key = 'eta=%s' % (eta)\n",
    "    start_row = i * rows_per_eta\n",
    "    end_row = (i + 1) * rows_per_eta\n",
    "    scores[key] = parse_output[start_row:end_row]"
   ]
  },
  {
   "cell_type": "code",
   "execution_count": 44,
   "id": "4de392ce-7752-4c9d-92a5-fdc3d43951a1",
   "metadata": {
    "tags": []
   },
   "outputs": [
    {
     "data": {
      "text/plain": [
       "<matplotlib.legend.Legend at 0x208a1a356d0>"
      ]
     },
     "execution_count": 44,
     "metadata": {},
     "output_type": "execute_result"
    },
    {
     "data": {
      "image/png": "[encoded data removed]",
      "text/plain": [
       "<Figure size 640x480 with 1 Axes>"
      ]
     },
     "metadata": {},
     "output_type": "display_data"
    }
   ],
   "source": [
    "for key, df_score in list(scores.items()):\n",
    "    plt.plot(df_score.num_iter, df_score.val_auc, label=key)\n",
    "\n",
    "plt.xlabel('boosting iterations')\n",
    "plt.ylabel('AUC score')\n",
    "plt.legend()"
   ]
  },
  {
   "cell_type": "markdown",
   "id": "04cb4ac9-4290-440f-bfae-8b4e576f158c",
   "metadata": {},
   "source": [
    "Best AUC score at ~110 iterations with an eta of 0.1."
   ]
  },
  {
   "cell_type": "markdown",
   "id": "3393430d-fbda-4570-803b-40d70f0e4220",
   "metadata": {},
   "source": [
    "#### max_depth"
   ]
  },
  {
   "cell_type": "code",
   "execution_count": 51,
   "id": "535ce1c7-5378-4e3c-9992-256cd4a5b7a7",
   "metadata": {
    "tags": []
   },
   "outputs": [],
   "source": [
    "scores = {}"
   ]
  },
  {
   "cell_type": "code",
   "execution_count": 52,
   "id": "9ff69a51-492a-48b6-a7bd-e0e05bd3e2a6",
   "metadata": {
    "tags": []
   },
   "outputs": [],
   "source": [
    "max_depths = [3, 4, 6, 10]"
   ]
  },
  {
   "cell_type": "code",
   "execution_count": 53,
   "id": "f0049a17-ab7f-4d14-9133-62d363afedea",
   "metadata": {
    "tags": []
   },
   "outputs": [],
   "source": [
    "%%capture output\n",
    "\n",
    "for max_depth in max_depths:\n",
    "    xgb_params = {\n",
    "        'eta': 0.1, \n",
    "        'max_depth': max_depth,\n",
    "        'min_child_weight': 1,\n",
    " \n",
    "        'objective': 'binary:logistic',\n",
    "        'eval_metric': 'auc',\n",
    "\n",
    "        'nthread': 8,\n",
    "        'seed': 1,\n",
    "        'verbosity': 1,\n",
    "    }\n",
    "\n",
    "    model = xgb.train(xgb_params, dtrain, num_boost_round=200,\n",
    "                      verbose_eval=5,\n",
    "                      evals=watchlist)"
   ]
  },
  {
   "cell_type": "code",
   "execution_count": 54,
   "id": "2c782086-74e4-41a1-ad9b-7d14c039874b",
   "metadata": {
    "tags": []
   },
   "outputs": [],
   "source": [
    "parse_output = parse_xgb_output(output)\n",
    "rows_per_depth = len(parse_output) // len(max_depths)\n",
    "\n",
    "for i, max_depth in enumerate(max_depths): \n",
    "    key = 'max_depth=%s' % (max_depth)\n",
    "    start_row = i * rows_per_depth\n",
    "    end_row = (i + 1) * rows_per_depth\n",
    "    scores[key] = parse_output[start_row:end_row]"
   ]
  },
  {
   "cell_type": "code",
   "execution_count": 55,
   "id": "4c46e6cb-081c-4c94-b8aa-44e42c089686",
   "metadata": {
    "tags": []
   },
   "outputs": [
    {
     "data": {
      "text/plain": [
       "<matplotlib.legend.Legend at 0x208a1ab9ac0>"
      ]
     },
     "execution_count": 55,
     "metadata": {},
     "output_type": "execute_result"
    },
    {
     "data": {
      "image/png": "[encoded data removed]",
      "text/plain": [
       "<Figure size 640x480 with 1 Axes>"
      ]
     },
     "metadata": {},
     "output_type": "display_data"
    }
   ],
   "source": [
    "for max_depth, df_score in scores.items():\n",
    "    plt.plot(df_score.num_iter, df_score.val_auc, label=max_depth)\n",
    "\n",
    "plt.xlabel('boosting iterations')\n",
    "plt.ylabel('AUC score')\n",
    "plt.ylim(0.8, 0.84)\n",
    "plt.legend()"
   ]
  },
  {
   "cell_type": "markdown",
   "id": "922387d3-29ef-4659-ac96-de15f9314b73",
   "metadata": {},
   "source": [
    "Best AUC scoret ~110 iterations with a max_depth of 6."
   ]
  },
  {
   "cell_type": "markdown",
   "id": "d3b7731b-0e7f-4ce3-a8cc-f35e632bd35d",
   "metadata": {},
   "source": [
    "#### min_child_weight"
   ]
  },
  {
   "cell_type": "code",
   "execution_count": 56,
   "id": "2ee0540d-d18e-4395-896d-d9bf71ebd962",
   "metadata": {
    "tags": []
   },
   "outputs": [],
   "source": [
    "scores = {}"
   ]
  },
  {
   "cell_type": "code",
   "execution_count": 57,
   "id": "5887203e-aac6-4147-8233-5bea0c70569c",
   "metadata": {
    "tags": []
   },
   "outputs": [],
   "source": [
    "min_child_weights = [1, 10, 30]"
   ]
  },
  {
   "cell_type": "code",
   "execution_count": 58,
   "id": "b938290a-6eb8-4a62-aa68-e4ae1fb884ae",
   "metadata": {
    "tags": []
   },
   "outputs": [],
   "source": [
    "%%capture output\n",
    "\n",
    "for min_child_weight in min_child_weights:\n",
    "    xgb_params = {\n",
    "        'eta': 0.1, \n",
    "        'max_depth': 6,\n",
    "        'min_child_weight': min_child_weight,\n",
    "\n",
    "        'objective': 'binary:logistic',\n",
    "        'eval_metric': 'auc',\n",
    "\n",
    "        'nthread': 8,\n",
    "        'seed': 1,\n",
    "        'verbosity': 1,\n",
    "    }\n",
    "\n",
    "    model = xgb.train(xgb_params, dtrain, num_boost_round=200,\n",
    "                      verbose_eval=5,\n",
    "                      evals=watchlist)"
   ]
  },
  {
   "cell_type": "code",
   "execution_count": 59,
   "id": "2e266b8e-c051-45f7-8e78-eb1dcc8405eb",
   "metadata": {
    "tags": []
   },
   "outputs": [],
   "source": [
    "parse_output = parse_xgb_output(output)\n",
    "rows_per_weight = len(parse_output) // len(min_child_weights)\n",
    "\n",
    "for i, min_child_weight in enumerate(min_child_weights): \n",
    "    key = 'min_child_weight=%s' % (min_child_weight)\n",
    "    start_row = i * rows_per_weight\n",
    "    end_row = (i + 1) * rows_per_weight\n",
    "    scores[key] = parse_output[start_row:end_row]"
   ]
  },
  {
   "cell_type": "code",
   "execution_count": 65,
   "id": "e21e54f0-27f4-4307-9f71-4dc5aacbff0f",
   "metadata": {
    "tags": []
   },
   "outputs": [
    {
     "data": {
      "text/plain": [
       "<matplotlib.legend.Legend at 0x2093f3a3c10>"
      ]
     },
     "execution_count": 65,
     "metadata": {},
     "output_type": "execute_result"
    },
    {
     "data": {
      "image/png": "[encoded data removed]",
      "text/plain": [
       "<Figure size 640x480 with 1 Axes>"
      ]
     },
     "metadata": {},
     "output_type": "display_data"
    }
   ],
   "source": [
    "for min_child_weight, df_score in scores.items():\n",
    "    plt.plot(df_score.num_iter, df_score.val_auc, label=min_child_weight)\n",
    "\n",
    "plt.xlabel('boosting iterations')\n",
    "plt.ylabel('AUC score')\n",
    "plt.ylim(0.82, 0.845)\n",
    "plt.legend()"
   ]
  },
  {
   "cell_type": "markdown",
   "id": "37ed79aa-43bd-4e72-92bb-3a8eaf269307",
   "metadata": {},
   "source": [
    "Best AUC score at ~110 iterations with a min_child_weight of 10."
   ]
  },
  {
   "cell_type": "markdown",
   "id": "6d2d9f98-8d96-4014-a7f4-0a96f1839a0a",
   "metadata": {},
   "source": [
    "#### Training final XGboost model"
   ]
  },
  {
   "cell_type": "code",
   "execution_count": 66,
   "id": "6ab30816-9c68-4be2-8cbb-d81b5798e976",
   "metadata": {
    "tags": []
   },
   "outputs": [],
   "source": [
    "xgb_params = {\n",
    "    'eta': 0.1, \n",
    "    'max_depth': 6,\n",
    "    'min_child_weight': 10,\n",
    "\n",
    "    'objective': 'binary:logistic',\n",
    "    'eval_metric': 'auc',\n",
    "\n",
    "    'nthread': 8,\n",
    "    'seed': 1,\n",
    "    'verbosity': 1,\n",
    "}\n",
    "\n",
    "model = xgb.train(xgb_params, dtrain, num_boost_round=110)"
   ]
  },
  {
   "cell_type": "code",
   "execution_count": 115,
   "id": "820d875e-6bb3-43d9-a2c9-974a882446c7",
   "metadata": {
    "tags": []
   },
   "outputs": [
    {
     "data": {
      "text/plain": [
       "0.8411246622854498"
      ]
     },
     "execution_count": 115,
     "metadata": {},
     "output_type": "execute_result"
    }
   ],
   "source": [
    "# Validation\n",
    "y_pred = model.predict(dval)\n",
    "roc_auc_score(y_val, y_pred)"
   ]
  },
  {
   "cell_type": "code",
   "execution_count": 116,
   "id": "46527ef4-9ccd-40fd-8743-6a943dd88514",
   "metadata": {
    "tags": []
   },
   "outputs": [
    {
     "data": {
      "text/plain": [
       "0.8853543057545729"
      ]
     },
     "execution_count": 116,
     "metadata": {},
     "output_type": "execute_result"
    }
   ],
   "source": [
    "# Evaluate AUC on the training dataset\n",
    "y_pred = model.predict(dtrain)\n",
    "roc_auc_score(y_train, y_pred)"
   ]
  },
  {
   "cell_type": "markdown",
   "id": "d9dab159-6419-4859-8c71-d90decdaa026",
   "metadata": {},
   "source": [
    "## Submit solution to Kaggle"
   ]
  },
  {
   "cell_type": "markdown",
   "id": "4c552207-d72b-4ded-8440-d1af726f418d",
   "metadata": {},
   "source": [
    "### Prepare test data"
   ]
  },
  {
   "cell_type": "code",
   "execution_count": 87,
   "id": "17e3bbf5-7f97-47c8-a735-b576e4d402b1",
   "metadata": {
    "tags": []
   },
   "outputs": [],
   "source": [
    "test_dicts = df_test.to_dict(orient='records')\n",
    "X_test = dv.transform(test_dicts)\n",
    "dtest = xgb.DMatrix(X_test, feature_names=features)"
   ]
  },
  {
   "cell_type": "markdown",
   "id": "58cfc015-ca5e-4df3-aaf9-07d6917eb0ab",
   "metadata": {},
   "source": [
    "### Make predictions"
   ]
  },
  {
   "cell_type": "code",
   "execution_count": 93,
   "id": "fcde7dad-c585-4acb-aff8-34883f42d946",
   "metadata": {
    "tags": []
   },
   "outputs": [
    {
     "data": {
      "text/plain": [
       "array([0.03204225, 0.04383954, 0.00132324, ..., 0.00289886, 0.08052487,\n",
       "       0.00082174], dtype=float32)"
      ]
     },
     "execution_count": 93,
     "metadata": {},
     "output_type": "execute_result"
    }
   ],
   "source": [
    "y_pred_sub = model.predict(dtest)\n",
    "y_pred_sub"
   ]
  },
  {
   "cell_type": "code",
   "execution_count": 99,
   "id": "1c0d5d31-98c0-4c45-aa5e-55743dfce760",
   "metadata": {
    "tags": []
   },
   "outputs": [],
   "source": [
    "predictions = [round(value) for value in y_pred_sub]"
   ]
  },
  {
   "cell_type": "markdown",
   "id": "b88a45b8-67c0-4c48-8bf0-67e3e1845e96",
   "metadata": {},
   "source": [
    "### Prepare and submit file"
   ]
  },
  {
   "cell_type": "code",
   "execution_count": 108,
   "id": "4e4ee692-0363-4b0a-90d4-ed413b46c4c7",
   "metadata": {
    "tags": []
   },
   "outputs": [],
   "source": [
    "df_sub = pd.read_csv('data/sample_submission.csv')"
   ]
  },
  {
   "cell_type": "code",
   "execution_count": 109,
   "id": "3b0bd964-68a3-45da-b7d4-56218468934f",
   "metadata": {
    "tags": []
   },
   "outputs": [],
   "source": [
    "df_sub['TARGET'] = np.array(predictions)"
   ]
  },
  {
   "cell_type": "code",
   "execution_count": 110,
   "id": "18fa75f9-dfb2-4388-838e-ac0d16f7f070",
   "metadata": {
    "tags": []
   },
   "outputs": [
    {
     "data": {
      "text/html": [
       "<div>\n",
       "<style scoped>\n",
       "    .dataframe tbody tr th:only-of-type {\n",
       "        vertical-align: middle;\n",
       "    }\n",
       "\n",
       "    .dataframe tbody tr th {\n",
       "        vertical-align: top;\n",
       "    }\n",
       "\n",
       "    .dataframe thead th {\n",
       "        text-align: right;\n",
       "    }\n",
       "</style>\n",
       "<table border=\"1\" class=\"dataframe\">\n",
       "  <thead>\n",
       "    <tr style=\"text-align: right;\">\n",
       "      <th></th>\n",
       "      <th>ID</th>\n",
       "      <th>TARGET</th>\n",
       "    </tr>\n",
       "  </thead>\n",
       "  <tbody>\n",
       "    <tr>\n",
       "      <th>0</th>\n",
       "      <td>2</td>\n",
       "      <td>0</td>\n",
       "    </tr>\n",
       "    <tr>\n",
       "      <th>1</th>\n",
       "      <td>5</td>\n",
       "      <td>0</td>\n",
       "    </tr>\n",
       "    <tr>\n",
       "      <th>2</th>\n",
       "      <td>6</td>\n",
       "      <td>0</td>\n",
       "    </tr>\n",
       "    <tr>\n",
       "      <th>3</th>\n",
       "      <td>7</td>\n",
       "      <td>0</td>\n",
       "    </tr>\n",
       "    <tr>\n",
       "      <th>4</th>\n",
       "      <td>9</td>\n",
       "      <td>0</td>\n",
       "    </tr>\n",
       "  </tbody>\n",
       "</table>\n",
       "</div>"
      ],
      "text/plain": [
       "   ID  TARGET\n",
       "0   2       0\n",
       "1   5       0\n",
       "2   6       0\n",
       "3   7       0\n",
       "4   9       0"
      ]
     },
     "execution_count": 110,
     "metadata": {},
     "output_type": "execute_result"
    }
   ],
   "source": [
    "df_sub.head()"
   ]
  },
  {
   "cell_type": "code",
   "execution_count": 111,
   "id": "c5d06c1c-5d84-4818-b2a3-5c81bc353af4",
   "metadata": {
    "tags": []
   },
   "outputs": [],
   "source": [
    "df_sub.to_csv(\"submission.csv\", index=False)"
   ]
  },
  {
   "cell_type": "code",
   "execution_count": 112,
   "id": "7cefe312-94c7-4909-9513-3c1c027487b4",
   "metadata": {
    "tags": []
   },
   "outputs": [
    {
     "name": "stdout",
     "output_type": "stream",
     "text": [
      "Successfully submitted to Santander Customer Satisfaction"
     ]
    },
    {
     "name": "stderr",
     "output_type": "stream",
     "text": [
      "\n",
      "  0%|          | 0.00/686k [00:00<?, ?B/s]\n",
      "  1%|1         | 8.00k/686k [00:00<00:31, 22.4kB/s]\n",
      " 27%|##6       | 184k/686k [00:00<00:01, 506kB/s]  \n",
      "100%|##########| 686k/686k [00:01<00:00, 440kB/s]\n"
     ]
    },
    {
     "name": "stdout",
     "output_type": "stream",
     "text": [
      "\n"
     ]
    }
   ],
   "source": [
    "!kaggle competitions submit -c santander-customer-satisfaction -f submission.csv -m \"first submission\""
   ]
  },
  {
   "cell_type": "markdown",
   "id": "99878978-1e2e-49fa-a296-a1f21cd27246",
   "metadata": {},
   "source": [
    "### View submissions"
   ]
  },
  {
   "cell_type": "code",
   "execution_count": 114,
   "id": "12d6f706-eafa-4326-b95d-ee6f2ad2f871",
   "metadata": {
    "tags": []
   },
   "outputs": [
    {
     "name": "stdout",
     "output_type": "stream",
     "text": [
      "fileName        date                 description       status    publicScore  privateScore  \n",
      "--------------  -------------------  ----------------  --------  -----------  ------------  \n",
      "submission.csv  2023-11-03 19:32:13  first submission  complete  0.50229      0.5013        \n"
     ]
    }
   ],
   "source": [
    "!kaggle competitions submissions -c santander-customer-satisfaction"
   ]
  }
 ],
 "metadata": {
  "kernelspec": {
   "display_name": "Python 3 (ipykernel)",
   "language": "python",
   "name": "python3"
  },
  "language_info": {
   "codemirror_mode": {
    "name": "ipython",
    "version": 3
   },
   "file_extension": ".py",
   "mimetype": "text/x-python",
   "name": "python",
   "nbconvert_exporter": "python",
   "pygments_lexer": "ipython3",
   "version": "3.9.18"
  }
 },
 "nbformat": 4,
 "nbformat_minor": 5
}
